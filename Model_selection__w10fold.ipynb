{
  "cells": [
    {
      "cell_type": "markdown",
      "metadata": {
        "id": "nsJl2dB5OaHo"
      },
      "source": [
        "# Import librerie e training set"
      ]
    },
    {
      "cell_type": "code",
      "execution_count": null,
      "metadata": {
        "id": "uEXJZZLwMAf3"
      },
      "outputs": [],
      "source": [
        "#!pip install tensorflow"
      ]
    },
    {
      "cell_type": "code",
      "execution_count": null,
      "metadata": {
        "id": "GV-nTBniOaHq"
      },
      "outputs": [],
      "source": [
        "import numpy as np\n",
        "import matplotlib.pyplot as plt\n",
        "import seaborn as sns\n",
        "import pandas as pd\n",
        "import math\n",
        "from tqdm.notebook import tqdm\n",
        "\n",
        "from sklearn.model_selection import train_test_split, KFold\n",
        "from sklearn.model_selection import cross_val_score\n",
        "from sklearn.metrics import make_scorer\n",
        "\n",
        "from sklearn.tree import DecisionTreeRegressor\n",
        "from sklearn.ensemble import RandomForestRegressor\n",
        "from sklearn.svm import SVR\n",
        "from sklearn.neighbors import KNeighborsRegressor\n",
        "from sklearn.multioutput import MultiOutputRegressor\n",
        "\n",
        "from tensorflow import keras\n",
        "from keras import Sequential, layers\n",
        "from keras.layers import Dense \n",
        "from keras.optimizers import SGD, RMSprop\n",
        "from keras import backend as K\n",
        "from keras.wrappers.scikit_learn import KerasRegressor"
      ]
    },
    {
      "cell_type": "code",
      "execution_count": null,
      "metadata": {
        "colab": {
          "base_uri": "https://localhost:8080/",
          "height": 206
        },
        "id": "1-ec92kDOaHr",
        "outputId": "82ca6b4c-5e22-4ada-c60c-96d00ebfdfd8"
      },
      "outputs": [],
      "source": [
        "df = pd.read_csv('ML-CUP22-TR.csv', header=None, skiprows=7, index_col=0) #, skipinitialspace=True)\n",
        "df.reset_index(drop=True, inplace=True)\n",
        "df.head()"
      ]
    },
    {
      "cell_type": "code",
      "execution_count": null,
      "metadata": {
        "colab": {
          "base_uri": "https://localhost:8080/",
          "height": 206
        },
        "id": "1We_8b_KNG0H",
        "outputId": "106678ed-41b0-49a3-9118-c900662180fb"
      },
      "outputs": [],
      "source": [
        "df_blind = pd.read_csv('ML-CUP22-TS.csv', header=None, skiprows=7, index_col=0)\n",
        "df_blind.reset_index(drop=True, inplace=True)\n",
        "df_blind.head()"
      ]
    },
    {
      "cell_type": "code",
      "execution_count": null,
      "metadata": {
        "colab": {
          "base_uri": "https://localhost:8080/"
        },
        "id": "jIJdJtQ4OaHs",
        "outputId": "1cb6c9f8-bc87-40d0-a11b-223a2c9332b1"
      },
      "outputs": [],
      "source": [
        "df.shape"
      ]
    },
    {
      "cell_type": "code",
      "execution_count": null,
      "metadata": {
        "colab": {
          "base_uri": "https://localhost:8080/"
        },
        "id": "JkIVwkS9OaHs",
        "outputId": "a71d637c-7039-4e33-a1c5-53652a35a182"
      },
      "outputs": [],
      "source": [
        "df.info()"
      ]
    },
    {
      "cell_type": "code",
      "execution_count": null,
      "metadata": {
        "colab": {
          "base_uri": "https://localhost:8080/"
        },
        "id": "hs49jBQLOaHt",
        "outputId": "2ea0e4f0-60d5-4e51-c37d-4cdb9c335d56"
      },
      "outputs": [],
      "source": [
        "df.dtypes"
      ]
    },
    {
      "cell_type": "code",
      "execution_count": null,
      "metadata": {
        "colab": {
          "base_uri": "https://localhost:8080/"
        },
        "id": "Bq4i4TvzOaHt",
        "outputId": "edbaac51-ab53-4c99-e015-3a1388fec8e6"
      },
      "outputs": [],
      "source": [
        "X = df.iloc[:, 0:9].values\n",
        "X"
      ]
    },
    {
      "cell_type": "code",
      "execution_count": null,
      "metadata": {
        "colab": {
          "base_uri": "https://localhost:8080/"
        },
        "id": "KEc3vQpwOaHt",
        "outputId": "26c0e890-e307-4032-824c-aacab3cb2bbf"
      },
      "outputs": [],
      "source": [
        "X.shape"
      ]
    },
    {
      "cell_type": "code",
      "execution_count": null,
      "metadata": {
        "colab": {
          "base_uri": "https://localhost:8080/"
        },
        "id": "qEps25QNOaHu",
        "outputId": "761b51ca-3c10-4081-9d84-d61841f1c17c"
      },
      "outputs": [],
      "source": [
        "y = df.iloc[:, 9:11].values\n",
        "y\n"
      ]
    },
    {
      "cell_type": "markdown",
      "metadata": {
        "id": "VQSBaolTMKf4"
      },
      "source": [
        "# Partitioning"
      ]
    },
    {
      "cell_type": "code",
      "execution_count": null,
      "metadata": {
        "id": "U4FYW2lSOaHu"
      },
      "outputs": [],
      "source": [
        "X_train, X_test, y_train, y_test = train_test_split(X, y, test_size=0.2, shuffle=True, random_state=42)"
      ]
    },
    {
      "cell_type": "code",
      "execution_count": null,
      "metadata": {
        "colab": {
          "base_uri": "https://localhost:8080/"
        },
        "id": "_mucSQh6OaHu",
        "outputId": "54dbdc5d-23d2-4e8c-979e-362cff65cef5"
      },
      "outputs": [],
      "source": [
        "X_train.shape, X_test.shape, y_train.shape, y_test.shape"
      ]
    },
    {
      "cell_type": "markdown",
      "metadata": {
        "id": "0kkpbHmRMVxZ"
      },
      "source": [
        "# Support Functions"
      ]
    },
    {
      "cell_type": "markdown",
      "metadata": {
        "id": "5aHPgLHCNETM"
      },
      "source": [
        "## MEE"
      ]
    },
    {
      "cell_type": "code",
      "execution_count": null,
      "metadata": {
        "id": "MpiInBHyOaHw"
      },
      "outputs": [],
      "source": [
        "def mean_euclidean_error(y_true, y_pred):\n",
        "    return K.mean(K.sqrt(K.sum(K.square(y_pred - y_true), axis=-1)))"
      ]
    },
    {
      "cell_type": "code",
      "execution_count": null,
      "metadata": {
        "id": "kWtcrlZoOaHw"
      },
      "outputs": [],
      "source": [
        "def mean_euclidean_error_skit_friendly(T, O):\n",
        "    sum = 0\n",
        "    for t, o in zip(T, O):\n",
        "        sum += np.linalg.norm(t - o) / T.shape[0]\n",
        "    return sum"
      ]
    },
    {
      "cell_type": "markdown",
      "metadata": {
        "id": "GrqNCe8uIgh_"
      },
      "source": [
        "## SGD"
      ]
    },
    {
      "cell_type": "code",
      "execution_count": null,
      "metadata": {
        "id": "Am9Wf2xBHDFJ"
      },
      "outputs": [],
      "source": [
        "def create_bestSGDmodel(num_neurons=[50,50,100], l_rates=0.0001, decays=0.0001, nesterov=True, momentum=0.5):\n",
        "      num_layers = len(num_neurons)\n",
        "      model = Sequential()\n",
        "      model.add(Dense(num_neurons[0], input_shape=(9,), activation='relu'))\n",
        "      for i in range(num_layers-1):\n",
        "              model.add(Dense(num_neurons[i], activation='relu'))\n",
        "      model.add(Dense(2, activation='linear'))\n",
        "      \n",
        "      model.compile(\n",
        "                    optimizer=SGD(learning_rate=l_rates, momentum=momentum, decay=decays, nesterov=nesterov),\n",
        "                    loss=['mean_squared_error'],\n",
        "                    metrics=[mean_euclidean_error]\n",
        "                    )\n",
        "      return model"
      ]
    },
    {
      "cell_type": "markdown",
      "metadata": {
        "id": "i-KBazxIIiXI"
      },
      "source": [
        "## RMSprop"
      ]
    },
    {
      "cell_type": "code",
      "execution_count": null,
      "metadata": {
        "id": "f5HLvo1XHDuV"
      },
      "outputs": [],
      "source": [
        "def create_bestRMSprop_model(num_neurons=[20,50,50], l_rates=0.0001, decays=0.0, momentum=0.2):\n",
        "    num_layers = len(num_neurons)\n",
        "    model = Sequential()\n",
        "    model.add(Dense(num_neurons[0], input_shape=(9,), activation='relu'))\n",
        "    for i in range(num_layers-1):\n",
        "            model.add(Dense(num_neurons[i], activation='relu'))\n",
        "    model.add(Dense(2, activation='linear'))\n",
        "    \n",
        "\n",
        "    model.compile(\n",
        "                          optimizer=RMSprop(learning_rate=l_rates, momentum=momentum, decay=decays),\n",
        "                          loss=['mean_squared_error'],\n",
        "                          metrics=[mean_euclidean_error])\n",
        "\n",
        "    return model"
      ]
    },
    {
      "cell_type": "markdown",
      "metadata": {
        "id": "5SmocY63NG0w"
      },
      "source": [
        "## Cross-validation"
      ]
    },
    {
      "cell_type": "code",
      "execution_count": null,
      "metadata": {
        "id": "-LBquLik5PGE"
      },
      "outputs": [],
      "source": [
        "def cross_val(model, model_name, folds=10, X=X, y=y):\n",
        "  cv = KFold(n_splits=folds, shuffle=True, random_state=42)\n",
        "  scores = cross_val_score(model, X, y, cv=folds, scoring=make_scorer(mean_euclidean_error_skit_friendly, greater_is_better=False))\n",
        "  scores_mean = scores.mean()\n",
        "  scores_std = scores.std()\n",
        "  print('scores', model_name)\n",
        "  print('mean: %.3f' %scores_mean) \n",
        "  print('std: %.3f' %scores_std)\n",
        "  print()\n"
      ]
    },
    {
      "cell_type": "markdown",
      "metadata": {
        "id": "O1XUuiKW4Tc-"
      },
      "source": [
        "# Evaluating MLP"
      ]
    },
    {
      "attachments": {},
      "cell_type": "markdown",
      "metadata": {
        "id": "-uyU0Duk5s6p"
      },
      "source": [
        "## SGD"
      ]
    },
    {
      "cell_type": "markdown",
      "metadata": {
        "id": "HSSC-2vO_uL_"
      },
      "source": [
        "### Computing training time"
      ]
    },
    {
      "cell_type": "code",
      "execution_count": null,
      "metadata": {
        "colab": {
          "base_uri": "https://localhost:8080/"
        },
        "id": "jLzCiuGC_yCN",
        "outputId": "89b6fce8-7e19-48cd-faf7-4b806fa8d4d9"
      },
      "outputs": [],
      "source": [
        "%%time\n",
        "model = KerasRegressor(build_fn=create_bestSGDmodel, epochs=1000, batch_size=10, verbose=0)\n",
        "model.fit(X_train, y_train)                    "
      ]
    },
    {
      "cell_type": "code",
      "execution_count": null,
      "metadata": {
        "colab": {
          "base_uri": "https://localhost:8080/"
        },
        "id": "mwIfaJW4qBLw",
        "outputId": "e73e48f1-d14a-441b-d314-f7b2f95c5d8d"
      },
      "outputs": [],
      "source": [
        "%%time\n",
        "#model = KerasRegressor(build_fn=create_bestSGDmodel, epochs=1000, batch_size=10, verbose=0)                    \n",
        "scores = cross_val_score(model, X, y, cv=10, scoring=make_scorer(mean_euclidean_error_skit_friendly, greater_is_better=False))\n",
        "scores.mean(), scores.std()                    \n"
      ]
    },
    {
      "attachments": {},
      "cell_type": "markdown",
      "metadata": {
        "id": "oOG76l2_xPgP"
      },
      "source": [
        "## RMSprop"
      ]
    },
    {
      "cell_type": "markdown",
      "metadata": {
        "id": "rZCmVQZjAGGD"
      },
      "source": [
        "### Computing training time"
      ]
    },
    {
      "cell_type": "code",
      "execution_count": null,
      "metadata": {
        "colab": {
          "base_uri": "https://localhost:8080/"
        },
        "id": "0fktj_rIAJHt",
        "outputId": "22d8a074-8069-4b20-8fc3-17eb8675ee5b"
      },
      "outputs": [],
      "source": [
        "%%time\n",
        "model = KerasRegressor(build_fn=create_bestRMSprop_model, epochs=1000, batch_size=10, verbose=0)\n",
        "model.fit(X_train, y_train) "
      ]
    },
    {
      "cell_type": "code",
      "execution_count": null,
      "metadata": {
        "colab": {
          "base_uri": "https://localhost:8080/"
        },
        "id": "_Lxa085wIUYf",
        "outputId": "b437e2c0-2d6e-4a0d-dfb9-51737ccc27aa"
      },
      "outputs": [],
      "source": [
        "%%time\n",
        "#model = KerasRegressor(build_fn=create_bestRMSprop_model, epochs=1000, batch_size=10, verbose=0)\n",
        "scores = cross_val_score(model, X, y, cv=10, scoring=make_scorer(mean_euclidean_error_skit_friendly, greater_is_better=False))\n",
        "scores.mean(), scores.std()                    \n"
      ]
    },
    {
      "cell_type": "markdown",
      "metadata": {
        "id": "aAb5Fpk04Li6"
      },
      "source": [
        "# Evaluating Decision Tree"
      ]
    },
    {
      "cell_type": "code",
      "execution_count": null,
      "metadata": {
        "id": "u6cnx1bsOaH2"
      },
      "outputs": [],
      "source": [
        "#dt1 = DecisionTreeRegressor(ccp_alpha=0.0, criterion='friedman_mse', max_depth=6)\n",
        "dt2 = DecisionTreeRegressor(ccp_alpha=0.0, criterion='squared_error', max_depth=5)"
      ]
    },
    {
      "cell_type": "markdown",
      "metadata": {
        "id": "Poc3FpTRAQFq"
      },
      "source": [
        "### Computing training time"
      ]
    },
    {
      "cell_type": "code",
      "execution_count": null,
      "metadata": {
        "colab": {
          "base_uri": "https://localhost:8080/"
        },
        "id": "HZhgI06gATNR",
        "outputId": "0e48d98a-b020-4b7a-c3c6-e9164a3e959e"
      },
      "outputs": [],
      "source": [
        "%%time\n",
        "dt2.fit(X_train, y_train)"
      ]
    },
    {
      "cell_type": "code",
      "execution_count": null,
      "metadata": {
        "colab": {
          "base_uri": "https://localhost:8080/"
        },
        "id": "E-kOh9HC9Ncp",
        "outputId": "ca438fd0-594d-4f7a-d263-c74fb25776f2"
      },
      "outputs": [],
      "source": [
        "%%time\n",
        "#cross_val(dt1, 'DT1')\n",
        "cross_val(dt2,  'DT2')"
      ]
    },
    {
      "cell_type": "markdown",
      "metadata": {
        "id": "V-As0g1w4WFS"
      },
      "source": [
        "# Evaluating Random Forest"
      ]
    },
    {
      "cell_type": "code",
      "execution_count": null,
      "metadata": {
        "id": "UDxkHtG6mlBY"
      },
      "outputs": [],
      "source": [
        "#rf1 = RandomForestRegressor(n_estimators=100, max_features='log2', max_depth=10, min_samples_split=6, bootstrap=True)\n",
        "rf2 = RandomForestRegressor(n_estimators=100, max_features='log2', max_depth=10, min_samples_split=6, bootstrap=True)"
      ]
    },
    {
      "cell_type": "markdown",
      "metadata": {
        "id": "wYycX6LKAbl5"
      },
      "source": [
        "## Computing training time"
      ]
    },
    {
      "cell_type": "code",
      "execution_count": null,
      "metadata": {
        "colab": {
          "base_uri": "https://localhost:8080/"
        },
        "id": "v0MNerOwAeJa",
        "outputId": "0dffba72-1c64-48d9-b9e7-946d844176e0"
      },
      "outputs": [],
      "source": [
        "rf2.fit(X_train, y_train)"
      ]
    },
    {
      "cell_type": "code",
      "execution_count": null,
      "metadata": {
        "colab": {
          "base_uri": "https://localhost:8080/"
        },
        "id": "PqHBcIMm8kPs",
        "outputId": "752c0502-2760-4b95-d603-094fa9663b71"
      },
      "outputs": [],
      "source": [
        "%time\n",
        "#cross_val(rf1, 'RF1')\n",
        "cross_val(rf2,  'RF2')"
      ]
    },
    {
      "cell_type": "markdown",
      "metadata": {
        "id": "HAMN0gSp4YOy"
      },
      "source": [
        "# Evaluating KNN"
      ]
    },
    {
      "cell_type": "code",
      "execution_count": null,
      "metadata": {
        "id": "lQ54ysWymk8l"
      },
      "outputs": [],
      "source": [
        "#knn1 = KNeighborsRegressor(n_jobs=23, algorithm='brute', metric='euclidean', weights='distance')\n",
        "knn2 = KNeighborsRegressor(n_jobs=24, algorithm='brute', metric='euclidean', weights='distance')\n"
      ]
    },
    {
      "cell_type": "markdown",
      "metadata": {
        "id": "PKjkqgt2AiEg"
      },
      "source": [
        "## Computing training time"
      ]
    },
    {
      "cell_type": "code",
      "execution_count": null,
      "metadata": {
        "colab": {
          "base_uri": "https://localhost:8080/"
        },
        "id": "L5vwRVeYAkev",
        "outputId": "93959d92-5366-4a68-ae2a-795acd28767c"
      },
      "outputs": [],
      "source": [
        "knn2.fit(X_train, y_train)"
      ]
    },
    {
      "cell_type": "code",
      "execution_count": null,
      "metadata": {
        "colab": {
          "base_uri": "https://localhost:8080/"
        },
        "id": "ht7uaOBs_Gjh",
        "outputId": "c82cad2e-e03b-416b-e823-1bb17ddd4937"
      },
      "outputs": [],
      "source": [
        "%time\n",
        "#cross_val(knn1, 'KNN1')\n",
        "cross_val(knn2,  'KNN2')"
      ]
    },
    {
      "cell_type": "markdown",
      "metadata": {
        "id": "tN9Yu9OK4aBO"
      },
      "source": [
        "# Evaluating SVR"
      ]
    },
    {
      "cell_type": "code",
      "execution_count": null,
      "metadata": {
        "id": "BMk-Gt4mmk6Y"
      },
      "outputs": [],
      "source": [
        "svr1 = SVR(kernel='rbf', C=1, epsilon=0.1, gamma=0.125)\n",
        "svr2 = SVR(kernel='rbf', C=1, epsilon=0.1, gamma=0.25)"
      ]
    },
    {
      "cell_type": "code",
      "execution_count": null,
      "metadata": {
        "id": "pWfoCvSYmk3F"
      },
      "outputs": [],
      "source": [
        "y1 = np.array([e[0] for e in y])\n",
        "y2 = np.array([e[1] for e in y])\n",
        "\n"
      ]
    },
    {
      "cell_type": "code",
      "execution_count": null,
      "metadata": {
        "colab": {
          "base_uri": "https://localhost:8080/"
        },
        "id": "DCw-75xGmk0z",
        "outputId": "9574ae10-7b56-4087-f989-9a97e684e7ef"
      },
      "outputs": [],
      "source": [
        "%time\n",
        "cross_val(svr1, 'SVR1', y=y1)\n",
        "cross_val(svr2, 'SVR2', y=y2)"
      ]
    },
    {
      "cell_type": "code",
      "execution_count": null,
      "metadata": {
        "id": "SoZlkG1yjglb"
      },
      "outputs": [],
      "source": [
        "svr_reg = MultiOutputRegressor(SVR(kernel='rbf', C=0.1, gamma=0.125, epsilon=0.1))\n"
      ]
    },
    {
      "cell_type": "markdown",
      "metadata": {
        "id": "COLgf5T1AwQU"
      },
      "source": [
        "## Computing training time"
      ]
    },
    {
      "cell_type": "code",
      "execution_count": null,
      "metadata": {
        "colab": {
          "base_uri": "https://localhost:8080/"
        },
        "id": "gph-MjJ5A4k3",
        "outputId": "9d609695-d11d-49bc-cdb0-33083aa1b328"
      },
      "outputs": [],
      "source": [
        "%%time\n",
        "svr_reg.fit(X_train, y_train)"
      ]
    },
    {
      "cell_type": "code",
      "execution_count": null,
      "metadata": {
        "colab": {
          "base_uri": "https://localhost:8080/"
        },
        "id": "xZm9Cysdj1UP",
        "outputId": "a8c31590-7883-454c-d6c9-67f2ea6b7b90"
      },
      "outputs": [],
      "source": [
        "%time\n",
        "cross_val(svr_reg, 'SVR ensamble')\n"
      ]
    },
    {
      "cell_type": "markdown",
      "metadata": {
        "id": "95ZLpA_nOJL-"
      },
      "source": [
        "# Best model predictions"
      ]
    },
    {
      "cell_type": "code",
      "execution_count": null,
      "metadata": {
        "id": "gfTPFdM1sf0V"
      },
      "outputs": [],
      "source": [
        "rf = RandomForestRegressor(n_estimators=100, max_features='log2', max_depth=10, min_samples_split=6, bootstrap=True)"
      ]
    },
    {
      "cell_type": "code",
      "execution_count": null,
      "metadata": {
        "colab": {
          "base_uri": "https://localhost:8080/"
        },
        "id": "n9UEy2YEw6TJ",
        "outputId": "98d88923-deac-49a1-bc18-192e264765f2"
      },
      "outputs": [],
      "source": [
        "cv=KFold(n_splits=5, shuffle=True, random_state=42)\n",
        "\n",
        "scores = cross_val_score(rf2, X_train, y_train, cv=cv, scoring=make_scorer(mean_euclidean_error_skit_friendly, greater_is_better=False))\n",
        "scores.mean(), scores.std()"
      ]
    },
    {
      "cell_type": "code",
      "execution_count": null,
      "metadata": {
        "colab": {
          "base_uri": "https://localhost:8080/"
        },
        "id": "0TC-xva1xxcd",
        "outputId": "67142f50-d703-446a-cc1d-881943514cd3"
      },
      "outputs": [],
      "source": [
        "scores = cross_val_score(rf2, X, y, cv=cv, scoring=make_scorer(mean_euclidean_error_skit_friendly, greater_is_better=False))\n",
        "scores.mean(), scores.std()"
      ]
    },
    {
      "cell_type": "code",
      "execution_count": null,
      "metadata": {
        "colab": {
          "base_uri": "https://localhost:8080/",
          "height": 311
        },
        "id": "d6yZNlceyUdQ",
        "outputId": "2fec48ec-4b14-45f8-9f5e-d24ccf8d315f"
      },
      "outputs": [],
      "source": [
        "rf.fit(X_train, y_train)\n",
        "y_pred_train = rf.predict(X_train)"
      ]
    },
    {
      "cell_type": "code",
      "execution_count": null,
      "metadata": {
        "colab": {
          "base_uri": "https://localhost:8080/",
          "height": 166
        },
        "id": "1mO6QqfiyWqN",
        "outputId": "c369f2e0-1876-42ee-f24d-03e87c087333"
      },
      "outputs": [],
      "source": [
        "mean_euclidean_error_skit_friendly(y_pred_train, y_train)"
      ]
    },
    {
      "cell_type": "markdown",
      "metadata": {
        "id": "r98z7P1qRPzI"
      },
      "source": [
        "# Plotting results"
      ]
    },
    {
      "cell_type": "code",
      "execution_count": null,
      "metadata": {
        "id": "edX8UbpnsgYa"
      },
      "outputs": [],
      "source": [
        "rf.fit(X_train, y_train)\n",
        "y_pred = rf2.predict(X_test)\n",
        "y_pred = pd.DataFrame(y_pred, columns=['x', 'y'])\n",
        "\n",
        "y_testdf = pd.DataFrame(y_test, columns=['x', 'y'])"
      ]
    },
    {
      "cell_type": "code",
      "execution_count": null,
      "metadata": {
        "id": "yM8XCRaWMQcs"
      },
      "outputs": [],
      "source": [
        "sns.scatterplot(x=y_testdf['x'], y=y_testdf['y'], label=\"True\", marker=\"X\", palette=['green'])\n",
        "sns.scatterplot(x=y_pred['x'], y=y_pred['y'], label=\"Predicted\",palette=['green'])\n",
        "\n",
        "plt.legend()\n",
        "plt.xlabel('y1', fontsize=14)\n",
        "plt.ylabel('y2', fontsize=14)\n",
        "plt.legend(fontsize=14)\n",
        "plt.savefig(\"RFpredictions.pdf\", dpi=300, bbox_inches=\"tight\")\n",
        "plt.show()"
      ]
    },
    {
      "cell_type": "code",
      "execution_count": null,
      "metadata": {
        "id": "5BXy6eAfRmFU"
      },
      "outputs": [],
      "source": [
        "y_blind_pred = rf2.predict(df_blind.values)\n",
        "y_test_blind_df = pd.DataFrame(y_blind_pred, columns=['x', 'y'])\n",
        "sns.scatterplot(x=y_test_blind_df['x'], y=y_test_blind_df['y'])\n",
        "plt.xlabel('y1', fontsize=14)\n",
        "plt.ylabel('y2', fontsize=14)\n",
        "plt.savefig(\"RF_blind_predictions.pdf\", dpi=300, bbox_inches=\"tight\")\n",
        "plt.show()"
      ]
    },
    {
      "cell_type": "code",
      "execution_count": null,
      "metadata": {},
      "outputs": [],
      "source": [
        "y_test_blind_df.index=[i for i in np.arange(1,len(y_test_blind_df)+1)]"
      ]
    },
    {
      "cell_type": "code",
      "execution_count": null,
      "metadata": {},
      "outputs": [],
      "source": [
        "y_test_blind_df.to_csv('Hoddmìmir_ML-CUP22_TS.csv', header=False)\n"
      ]
    }
  ],
  "metadata": {
    "colab": {
      "provenance": [],
      "toc_visible": true
    },
    "kernelspec": {
      "display_name": "base",
      "language": "python",
      "name": "python3"
    },
    "language_info": {
      "codemirror_mode": {
        "name": "ipython",
        "version": 3
      },
      "file_extension": ".py",
      "mimetype": "text/x-python",
      "name": "python",
      "nbconvert_exporter": "python",
      "pygments_lexer": "ipython3",
      "version": "3.7.11"
    },
    "vscode": {
      "interpreter": {
        "hash": "b12f41defd07c4f9349922ef0d99e6d919618c6789aab442fb5034118696d182"
      }
    }
  },
  "nbformat": 4,
  "nbformat_minor": 0
}
