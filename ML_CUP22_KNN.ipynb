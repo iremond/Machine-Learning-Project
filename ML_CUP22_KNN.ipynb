{
 "cells": [
  {
   "cell_type": "code",
   "execution_count": null,
   "id": "a1145401",
   "metadata": {},
   "outputs": [],
   "source": [
    "import pandas\n",
    "import numpy as np\n",
    "import matplotlib.pyplot as plt\n",
    "from sklearn.feature_selection import SelectKBest, chi2,mutual_info_regression\n",
    "import sklearn\n",
    "from sklearn.metrics import make_scorer, r2_score, mean_squared_error, mean_absolute_error\n",
    "from sklearn.model_selection import train_test_split\n",
    "from sklearn.metrics import *\n",
    "from sklearn.model_selection import KFold\n",
    "from sklearn.model_selection import GridSearchCV\n",
    "from sklearn.neighbors import KNeighborsRegressor"
   ]
  },
  {
   "cell_type": "markdown",
   "id": "96bf35ec",
   "metadata": {},
   "source": [
    "## Support functions"
   ]
  },
  {
   "cell_type": "code",
   "execution_count": null,
   "id": "00d48fe0",
   "metadata": {},
   "outputs": [],
   "source": [
    "def mean_euclidean_error_func(T, O):\n",
    "    sum = 0\n",
    "    for t, o in zip(T, O):\n",
    "        sum += np.linalg.norm(t - o) / T.shape[0]\n",
    "    return sum \n",
    "mean_euclidean_error = make_scorer(mean_euclidean_error_func, greater_is_better=False)"
   ]
  },
  {
   "cell_type": "code",
   "execution_count": null,
   "id": "446c4f04",
   "metadata": {},
   "outputs": [],
   "source": [
    "def get_evaluations(y_pred, y_test):\n",
    "    r2 = r2_score(y_test, y_pred)\n",
    "    mse = mean_squared_error(y_test, y_pred)\n",
    "    mae = mean_absolute_error(y_test, y_pred)\n",
    "    mee = mean_euclidean_error_func(y_test, y_pred)\n",
    "    return r2, mse, mae, mee\n",
    "\n",
    "def print_evaluations(r2, mse, mae, mee):\n",
    "    print('R2: %.3f' % r2)\n",
    "    print('MSE: %.3f' % mse)\n",
    "    print('MAE: %.3f' % mae)\n",
    "    print('MEE: %.3f' % mee)"
   ]
  },
  {
   "cell_type": "markdown",
   "id": "7861bd35",
   "metadata": {},
   "source": [
    "## Partitioning"
   ]
  },
  {
   "cell_type": "code",
   "execution_count": null,
   "id": "0aa40691",
   "metadata": {},
   "outputs": [],
   "source": [
    "train = pandas.read_csv('ML-CUP22-TR.csv',sep=\",\", header=None, skipinitialspace= None, skiprows=7,index_col=0)\n",
    "X = train[[i for i in range(1,10)]]\n",
    "y = train[[10,11]]\n",
    "X_train, X_test, y_train, y_test = train_test_split(X, y, test_size=0.2, shuffle=True,random_state=0)"
   ]
  },
  {
   "cell_type": "code",
   "execution_count": null,
   "id": "b4e7b514",
   "metadata": {},
   "outputs": [],
   "source": [
    "X_train = X_train.to_numpy()\n",
    "y_train0 = y_train[[10]].values\n",
    "y_train1 = y_train[[11]].values\n",
    "y_train = y_train.to_numpy()"
   ]
  },
  {
   "cell_type": "code",
   "execution_count": null,
   "id": "70066122",
   "metadata": {},
   "outputs": [],
   "source": [
    "X_test = X_test.to_numpy()\n",
    "y_test0 = y_test[[10]].values\n",
    "y_test1 = y_test[[11]].values\n",
    "y_test = y_test.to_numpy()"
   ]
  },
  {
   "cell_type": "markdown",
   "id": "28f428bc",
   "metadata": {},
   "source": [
    "## Model Selection"
   ]
  },
  {
   "cell_type": "code",
   "execution_count": null,
   "id": "6b48b47d",
   "metadata": {},
   "outputs": [],
   "source": [
    "param_grid = {\n",
    "        'weights': ['distance', 'uniform'],\n",
    "        'n_neighbors' : [i for i in range(1,61)],\n",
    "        'algorithm' : ['brute','ball_tree','kd_tree'],\n",
    "        'metric' : ['cityblock','euclidean','chebyshev','minkowski']}"
   ]
  },
  {
   "cell_type": "code",
   "execution_count": null,
   "id": "993ee0f3",
   "metadata": {},
   "outputs": [],
   "source": [
    "skfold_inner=KFold(n_splits=5, shuffle=True, random_state=42)"
   ]
  },
  {
   "cell_type": "code",
   "execution_count": null,
   "id": "676b57f6",
   "metadata": {
    "scrolled": true
   },
   "outputs": [],
   "source": [
    "grid0 = GridSearchCV(       \n",
    "    KNeighborsRegressor(),\n",
    "    param_grid=param_grid,\n",
    "    cv=skfold_inner,\n",
    "    n_jobs=4,\n",
    "    error_score='raise',\n",
    "    scoring = mean_euclidean_error\n",
    " )\n",
    "grid0.fit(X_train, y_train0)\n",
    "print(grid0.best_estimator_)\n",
    "print(grid0.best_score_)"
   ]
  },
  {
   "cell_type": "code",
   "execution_count": null,
   "id": "4b860ccb",
   "metadata": {},
   "outputs": [],
   "source": [
    "grid1 = GridSearchCV(       \n",
    "    KNeighborsRegressor(),\n",
    "    param_grid=param_grid,\n",
    "    cv=skfold_inner,\n",
    "    n_jobs=4,\n",
    "    error_score='raise',\n",
    "    scoring = mean_euclidean_error\n",
    " )\n",
    "grid1.fit(X_train, y_train1)\n",
    "print(grid1.best_estimator_)\n",
    "print(grid1.best_score_)"
   ]
  },
  {
   "cell_type": "markdown",
   "id": "a1455fdf",
   "metadata": {},
   "source": [
    "## Model Assessment"
   ]
  },
  {
   "cell_type": "code",
   "execution_count": null,
   "id": "b7cc26c7",
   "metadata": {
    "scrolled": true
   },
   "outputs": [],
   "source": [
    "pred0 = grid0.best_estimator_.predict(X_test)\n",
    "pred1 = grid1.best_estimator_.predict(X_test)"
   ]
  },
  {
   "cell_type": "code",
   "execution_count": null,
   "id": "d96ada57",
   "metadata": {},
   "outputs": [],
   "source": [
    "print(\"First target\\n\")\n",
    "r2, mse, mae, mee = get_evaluations(pred0,y_test0)\n",
    "print_evaluations(r2, mse, mae, mee)\n",
    "print()\n",
    "print(\"Second target\\n\")\n",
    "r2, mse, mae, mee = get_evaluations(pred1,y_test1)\n",
    "print_evaluations(r2, mse, mae, mee)\n",
    "print()\n",
    "print(\"Both targets\\n\")\n",
    "r2, mse, mae, mee = get_evaluations(np.column_stack((pred0,pred1)),y_test)\n",
    "print_evaluations(r2, mse, mae, mee)"
   ]
  }
 ],
 "metadata": {
  "kernelspec": {
   "display_name": "Python 3 (ipykernel)",
   "language": "python",
   "name": "python3"
  },
  "language_info": {
   "codemirror_mode": {
    "name": "ipython",
    "version": 3
   },
   "file_extension": ".py",
   "mimetype": "text/x-python",
   "name": "python",
   "nbconvert_exporter": "python",
   "pygments_lexer": "ipython3",
   "version": "3.9.13"
  }
 },
 "nbformat": 4,
 "nbformat_minor": 5
}
