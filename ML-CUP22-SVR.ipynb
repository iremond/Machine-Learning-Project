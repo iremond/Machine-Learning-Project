{
 "cells": [
  {
   "attachments": {},
   "cell_type": "markdown",
   "metadata": {},
   "source": [
    "# Import librerie e training set"
   ]
  },
  {
   "cell_type": "code",
   "execution_count": 140,
   "metadata": {},
   "outputs": [],
   "source": [
    "import numpy as np\n",
    "import matplotlib.pyplot as plt\n",
    "import pandas as pd"
   ]
  },
  {
   "cell_type": "code",
   "execution_count": 141,
   "metadata": {},
   "outputs": [
    {
     "data": {
      "text/html": [
       "<div>\n",
       "<style scoped>\n",
       "    .dataframe tbody tr th:only-of-type {\n",
       "        vertical-align: middle;\n",
       "    }\n",
       "\n",
       "    .dataframe tbody tr th {\n",
       "        vertical-align: top;\n",
       "    }\n",
       "\n",
       "    .dataframe thead th {\n",
       "        text-align: right;\n",
       "    }\n",
       "</style>\n",
       "<table border=\"1\" class=\"dataframe\">\n",
       "  <thead>\n",
       "    <tr style=\"text-align: right;\">\n",
       "      <th></th>\n",
       "      <th>1</th>\n",
       "      <th>2</th>\n",
       "      <th>3</th>\n",
       "      <th>4</th>\n",
       "      <th>5</th>\n",
       "      <th>6</th>\n",
       "      <th>7</th>\n",
       "      <th>8</th>\n",
       "      <th>9</th>\n",
       "      <th>10</th>\n",
       "      <th>11</th>\n",
       "    </tr>\n",
       "    <tr>\n",
       "      <th>0</th>\n",
       "      <th></th>\n",
       "      <th></th>\n",
       "      <th></th>\n",
       "      <th></th>\n",
       "      <th></th>\n",
       "      <th></th>\n",
       "      <th></th>\n",
       "      <th></th>\n",
       "      <th></th>\n",
       "      <th></th>\n",
       "      <th></th>\n",
       "    </tr>\n",
       "  </thead>\n",
       "  <tbody>\n",
       "    <tr>\n",
       "      <th>1</th>\n",
       "      <td>-1.704815</td>\n",
       "      <td>1.503106</td>\n",
       "      <td>-0.817083</td>\n",
       "      <td>1.353560</td>\n",
       "      <td>-1.293660</td>\n",
       "      <td>1.362608</td>\n",
       "      <td>0.217795</td>\n",
       "      <td>0.462728</td>\n",
       "      <td>-1.237246</td>\n",
       "      <td>22.222923</td>\n",
       "      <td>-27.036774</td>\n",
       "    </tr>\n",
       "    <tr>\n",
       "      <th>2</th>\n",
       "      <td>-0.888962</td>\n",
       "      <td>0.711473</td>\n",
       "      <td>-0.480023</td>\n",
       "      <td>0.748175</td>\n",
       "      <td>-0.981763</td>\n",
       "      <td>1.765482</td>\n",
       "      <td>-0.445018</td>\n",
       "      <td>1.719143</td>\n",
       "      <td>-1.096250</td>\n",
       "      <td>18.885520</td>\n",
       "      <td>-28.377440</td>\n",
       "    </tr>\n",
       "    <tr>\n",
       "      <th>3</th>\n",
       "      <td>1.143802</td>\n",
       "      <td>-1.591273</td>\n",
       "      <td>0.670477</td>\n",
       "      <td>-0.948551</td>\n",
       "      <td>1.075740</td>\n",
       "      <td>-0.908309</td>\n",
       "      <td>-0.694223</td>\n",
       "      <td>-1.321391</td>\n",
       "      <td>0.662656</td>\n",
       "      <td>4.587627</td>\n",
       "      <td>-18.507566</td>\n",
       "    </tr>\n",
       "    <tr>\n",
       "      <th>4</th>\n",
       "      <td>0.630938</td>\n",
       "      <td>-0.295533</td>\n",
       "      <td>1.379162</td>\n",
       "      <td>-0.041045</td>\n",
       "      <td>-0.250695</td>\n",
       "      <td>0.025003</td>\n",
       "      <td>0.143915</td>\n",
       "      <td>0.861455</td>\n",
       "      <td>0.879540</td>\n",
       "      <td>10.256820</td>\n",
       "      <td>-30.017064</td>\n",
       "    </tr>\n",
       "    <tr>\n",
       "      <th>5</th>\n",
       "      <td>1.799449</td>\n",
       "      <td>-0.913254</td>\n",
       "      <td>1.245698</td>\n",
       "      <td>-1.410940</td>\n",
       "      <td>0.653328</td>\n",
       "      <td>-0.677108</td>\n",
       "      <td>-0.667490</td>\n",
       "      <td>-0.849795</td>\n",
       "      <td>0.497977</td>\n",
       "      <td>4.916182</td>\n",
       "      <td>-17.670030</td>\n",
       "    </tr>\n",
       "  </tbody>\n",
       "</table>\n",
       "</div>"
      ],
      "text/plain": [
       "         1         2         3         4         5         6         7   \\\n",
       "0                                                                         \n",
       "1 -1.704815  1.503106 -0.817083  1.353560 -1.293660  1.362608  0.217795   \n",
       "2 -0.888962  0.711473 -0.480023  0.748175 -0.981763  1.765482 -0.445018   \n",
       "3  1.143802 -1.591273  0.670477 -0.948551  1.075740 -0.908309 -0.694223   \n",
       "4  0.630938 -0.295533  1.379162 -0.041045 -0.250695  0.025003  0.143915   \n",
       "5  1.799449 -0.913254  1.245698 -1.410940  0.653328 -0.677108 -0.667490   \n",
       "\n",
       "         8         9          10         11  \n",
       "0                                            \n",
       "1  0.462728 -1.237246  22.222923 -27.036774  \n",
       "2  1.719143 -1.096250  18.885520 -28.377440  \n",
       "3 -1.321391  0.662656   4.587627 -18.507566  \n",
       "4  0.861455  0.879540  10.256820 -30.017064  \n",
       "5 -0.849795  0.497977   4.916182 -17.670030  "
      ]
     },
     "execution_count": 141,
     "metadata": {},
     "output_type": "execute_result"
    }
   ],
   "source": [
    "df = pd.read_csv('ML-CUP22-TR.csv', header=None, skiprows=7, index_col=0)\n",
    "df.head()\n",
    "\n",
    "#fare holdout"
   ]
  },
  {
   "cell_type": "code",
   "execution_count": 142,
   "metadata": {},
   "outputs": [
    {
     "data": {
      "text/plain": [
       "(1492, 11)"
      ]
     },
     "execution_count": 142,
     "metadata": {},
     "output_type": "execute_result"
    }
   ],
   "source": [
    "df.shape"
   ]
  },
  {
   "cell_type": "code",
   "execution_count": 143,
   "metadata": {},
   "outputs": [
    {
     "name": "stdout",
     "output_type": "stream",
     "text": [
      "<class 'pandas.core.frame.DataFrame'>\n",
      "Int64Index: 1492 entries, 1 to 1492\n",
      "Data columns (total 11 columns):\n",
      " #   Column  Non-Null Count  Dtype  \n",
      "---  ------  --------------  -----  \n",
      " 0   1       1492 non-null   float64\n",
      " 1   2       1492 non-null   float64\n",
      " 2   3       1492 non-null   float64\n",
      " 3   4       1492 non-null   float64\n",
      " 4   5       1492 non-null   float64\n",
      " 5   6       1492 non-null   float64\n",
      " 6   7       1492 non-null   float64\n",
      " 7   8       1492 non-null   float64\n",
      " 8   9       1492 non-null   float64\n",
      " 9   10      1492 non-null   float64\n",
      " 10  11      1492 non-null   float64\n",
      "dtypes: float64(11)\n",
      "memory usage: 139.9 KB\n"
     ]
    }
   ],
   "source": [
    "df.info()"
   ]
  },
  {
   "cell_type": "code",
   "execution_count": 144,
   "metadata": {},
   "outputs": [
    {
     "data": {
      "text/plain": [
       "1     float64\n",
       "2     float64\n",
       "3     float64\n",
       "4     float64\n",
       "5     float64\n",
       "6     float64\n",
       "7     float64\n",
       "8     float64\n",
       "9     float64\n",
       "10    float64\n",
       "11    float64\n",
       "dtype: object"
      ]
     },
     "execution_count": 144,
     "metadata": {},
     "output_type": "execute_result"
    }
   ],
   "source": [
    "df.dtypes"
   ]
  },
  {
   "cell_type": "code",
   "execution_count": 145,
   "metadata": {},
   "outputs": [
    {
     "data": {
      "text/plain": [
       "array([[-1.704815,  1.503106, -0.817083, ...,  0.217795,  0.462728,\n",
       "        -1.237246],\n",
       "       [-0.888962,  0.711473, -0.480023, ..., -0.445018,  1.719143,\n",
       "        -1.09625 ],\n",
       "       [ 1.143802, -1.591273,  0.670477, ..., -0.694223, -1.321391,\n",
       "         0.662656],\n",
       "       ...,\n",
       "       [ 0.22256 ,  0.171394,  2.338296, ...,  0.61909 ,  0.448008,\n",
       "         0.134578],\n",
       "       [ 1.484195, -1.6164  , -0.30885 , ..., -0.213782, -1.155141,\n",
       "         0.681062],\n",
       "       [-1.701126,  0.88336 , -0.332723, ...,  0.032551,  0.518337,\n",
       "        -1.39578 ]])"
      ]
     },
     "execution_count": 145,
     "metadata": {},
     "output_type": "execute_result"
    }
   ],
   "source": [
    "X = df.iloc[:, 0:9].values\n",
    "X"
   ]
  },
  {
   "cell_type": "code",
   "execution_count": 146,
   "metadata": {},
   "outputs": [
    {
     "data": {
      "text/plain": [
       "array([[ 22.222923, -27.036774],\n",
       "       [ 18.88552 , -28.37744 ],\n",
       "       [  4.587627, -18.507566],\n",
       "       ...,\n",
       "       [ 10.887319, -30.49842 ],\n",
       "       [  4.286232, -23.027878],\n",
       "       [ 18.453878, -28.434854]])"
      ]
     },
     "execution_count": 146,
     "metadata": {},
     "output_type": "execute_result"
    }
   ],
   "source": [
    "y = df.iloc[:, 9:].values\n",
    "y"
   ]
  },
  {
   "attachments": {},
   "cell_type": "markdown",
   "metadata": {},
   "source": [
    "# Partitioning"
   ]
  },
  {
   "cell_type": "code",
   "execution_count": 147,
   "metadata": {},
   "outputs": [],
   "source": [
    "from sklearn.model_selection import train_test_split"
   ]
  },
  {
   "cell_type": "code",
   "execution_count": 148,
   "metadata": {},
   "outputs": [],
   "source": [
    "X_train, X_test, y_train, y_test = train_test_split(X, y, test_size=0.2, shuffle=True, random_state=0)"
   ]
  },
  {
   "cell_type": "code",
   "execution_count": 149,
   "metadata": {},
   "outputs": [
    {
     "data": {
      "text/plain": [
       "array([[  9.768276, -29.391799],\n",
       "       [  8.237292, -28.261941],\n",
       "       [ 18.811881, -28.325599],\n",
       "       ...,\n",
       "       [ 15.392804, -29.572999],\n",
       "       [ 20.092161, -27.876527],\n",
       "       [  5.06925 , -19.305946]])"
      ]
     },
     "execution_count": 149,
     "metadata": {},
     "output_type": "execute_result"
    }
   ],
   "source": [
    "y_train"
   ]
  },
  {
   "cell_type": "code",
   "execution_count": 150,
   "metadata": {},
   "outputs": [],
   "source": [
    "y1_train = np.array([i[0] for i in y_train])"
   ]
  },
  {
   "cell_type": "code",
   "execution_count": 151,
   "metadata": {},
   "outputs": [],
   "source": [
    "y2_train = np.array([i[1] for i in y_train])"
   ]
  },
  {
   "cell_type": "code",
   "execution_count": 152,
   "metadata": {},
   "outputs": [],
   "source": [
    "y1_test = np.array([i[0] for i in y_test])\n",
    "y2_test = np.array([i[1] for i in y_test])"
   ]
  },
  {
   "attachments": {},
   "cell_type": "markdown",
   "metadata": {},
   "source": [
    "# Model selection"
   ]
  },
  {
   "cell_type": "code",
   "execution_count": 186,
   "metadata": {},
   "outputs": [],
   "source": [
    "from sklearn.model_selection import StratifiedKFold, GridSearchCV, RandomizedSearchCV, KFold\n",
    "from sklearn.svm import SVR\n",
    "from scipy.stats import uniform\n",
    "from sklearn.metrics import mean_squared_error, make_scorer, mean_absolute_error, r2_score\n",
    "import sklearn.metrics"
   ]
  },
  {
   "cell_type": "code",
   "execution_count": 154,
   "metadata": {},
   "outputs": [
    {
     "data": {
      "text/plain": [
       "[0.0625, 0.125, 0.25, 0.5, 1]"
      ]
     },
     "execution_count": 154,
     "metadata": {},
     "output_type": "execute_result"
    }
   ],
   "source": [
    "[2**i for i in range(-4, 1)]"
   ]
  },
  {
   "cell_type": "code",
   "execution_count": 163,
   "metadata": {},
   "outputs": [],
   "source": [
    "param_grid = [{\n",
    "    'kernel': ['linear', 'rbf', 'sigmoid'],\n",
    "    'C' : [2**i for i in range(-3, 1)], # Regularization/missclassification term: tells how much error is bearable\n",
    "    'gamma' : [2**i for i in range(-3, 1)],\n",
    "    'epsilon' : [0.0001, 0.001, 0.01, 0.1, 1] # specifies the epsilon-tube within which no penalty is associated in the training loss function with points predicted within a distance epsilon from the actual value\n",
    "    #'coef0' : [0.0001, 0.001, 0.01, 0.1, 1, 2], # only significant in poly and sigmoid\n",
    "    #'tol' : [0.0001, 0.001, 0.01, 1, 2],\n",
    "},\n",
    "{\n",
    "    'kernel' : ['poly'],\n",
    "    'C' : [2**i for i in range(-3, 1)],\n",
    "    'degree': [i for i in range(4)],\n",
    "    'gamma' : [2**i for i in range(-3, 1)],\n",
    "    'epsilon' : [0.0001, 0.001, 0.01, 0.1, 1]\n",
    "    #'coef0' : [0.0001, 0.001, 0.01, 0.1, 1, 2],\n",
    "    #'tol' : [0.0001, 0.001, 0.01, 1, 2],\n",
    "    #'epsilon' : [0.0001, 0.001, 0.01, 0.1, 1, 2]\n",
    "}]"
   ]
  },
  {
   "cell_type": "code",
   "execution_count": 164,
   "metadata": {},
   "outputs": [],
   "source": [
    "def mean_euclidean_error(T, O):\n",
    "    sum = 0\n",
    "    for t, o in zip(T, O):\n",
    "        sum += np.linalg.norm(t - o)\n",
    "    return sum / T.shape[0]"
   ]
  },
  {
   "cell_type": "code",
   "execution_count": 165,
   "metadata": {},
   "outputs": [],
   "source": [
    "grid = GridSearchCV( \n",
    "    SVR(),\n",
    "    param_grid=param_grid,\n",
    "    cv=KFold(n_splits=5, shuffle=True, random_state=42),\n",
    "    scoring = make_scorer(mean_euclidean_error, greater_is_better=False)\n",
    "    )"
   ]
  },
  {
   "cell_type": "code",
   "execution_count": 169,
   "metadata": {},
   "outputs": [
    {
     "data": {
      "text/plain": [
       "GridSearchCV(cv=KFold(n_splits=5, random_state=42, shuffle=True),\n",
       "             estimator=SVR(),\n",
       "             param_grid=[{'C': [0.125, 0.25, 0.5, 1],\n",
       "                          'epsilon': [0.0001, 0.001, 0.01, 0.1, 1],\n",
       "                          'gamma': [0.125, 0.25, 0.5, 1],\n",
       "                          'kernel': ['linear', 'rbf', 'sigmoid']},\n",
       "                         {'C': [0.125, 0.25, 0.5, 1], 'degree': [0, 1, 2, 3],\n",
       "                          'epsilon': [0.0001, 0.001, 0.01, 0.1, 1],\n",
       "                          'gamma': [0.125, 0.25, 0.5, 1], 'kernel': ['poly']}],\n",
       "             scoring=make_scorer(mean_euclidean_error, greater_is_better=False))"
      ]
     },
     "execution_count": 169,
     "metadata": {},
     "output_type": "execute_result"
    }
   ],
   "source": [
    "grid.fit(X_train, y1_train)"
   ]
  },
  {
   "cell_type": "code",
   "execution_count": 170,
   "metadata": {},
   "outputs": [
    {
     "data": {
      "text/plain": [
       "{'C': 1, 'epsilon': 0.1, 'gamma': 0.125, 'kernel': 'rbf'}"
      ]
     },
     "execution_count": 170,
     "metadata": {},
     "output_type": "execute_result"
    }
   ],
   "source": [
    "grid.best_params_"
   ]
  },
  {
   "cell_type": "code",
   "execution_count": 171,
   "metadata": {},
   "outputs": [
    {
     "data": {
      "text/plain": [
       "-0.8469289685110457"
      ]
     },
     "execution_count": 171,
     "metadata": {},
     "output_type": "execute_result"
    }
   ],
   "source": [
    "grid.best_score_"
   ]
  },
  {
   "cell_type": "code",
   "execution_count": 180,
   "metadata": {},
   "outputs": [],
   "source": [
    "best_y1_model = SVR(kernel='rbf', C=1, epsilon=0.1, gamma=0.125)"
   ]
  },
  {
   "cell_type": "code",
   "execution_count": 192,
   "metadata": {},
   "outputs": [],
   "source": [
    "pred0 = best_y1_model.predict(X_test)"
   ]
  },
  {
   "cell_type": "code",
   "execution_count": 193,
   "metadata": {},
   "outputs": [
    {
     "data": {
      "text/plain": [
       "0.8044007241768238"
      ]
     },
     "execution_count": 193,
     "metadata": {},
     "output_type": "execute_result"
    }
   ],
   "source": [
    "mean_euclidean_error(pred0, y1_test)"
   ]
  },
  {
   "cell_type": "code",
   "execution_count": 194,
   "metadata": {},
   "outputs": [
    {
     "data": {
      "text/plain": [
       "0.9750114252495621"
      ]
     },
     "execution_count": 194,
     "metadata": {},
     "output_type": "execute_result"
    }
   ],
   "source": [
    "r2_score(pred0, y1_test)"
   ]
  },
  {
   "cell_type": "code",
   "execution_count": 195,
   "metadata": {},
   "outputs": [
    {
     "data": {
      "text/plain": [
       "1.0458159628453512"
      ]
     },
     "execution_count": 195,
     "metadata": {},
     "output_type": "execute_result"
    }
   ],
   "source": [
    "mean_squared_error(pred0, y1_test)"
   ]
  },
  {
   "cell_type": "code",
   "execution_count": 196,
   "metadata": {},
   "outputs": [
    {
     "data": {
      "text/plain": [
       "0.8044007241768237"
      ]
     },
     "execution_count": 196,
     "metadata": {},
     "output_type": "execute_result"
    }
   ],
   "source": [
    "mean_absolute_error(pred0, y1_test)"
   ]
  },
  {
   "cell_type": "code",
   "execution_count": 174,
   "metadata": {},
   "outputs": [
    {
     "data": {
      "text/plain": [
       "GridSearchCV(cv=KFold(n_splits=5, random_state=42, shuffle=True),\n",
       "             estimator=SVR(),\n",
       "             param_grid=[{'C': [0.125, 0.25, 0.5, 1],\n",
       "                          'epsilon': [0.0001, 0.001, 0.01, 0.1, 1],\n",
       "                          'gamma': [0.125, 0.25, 0.5, 1],\n",
       "                          'kernel': ['linear', 'rbf', 'sigmoid']},\n",
       "                         {'C': [0.125, 0.25, 0.5, 1], 'degree': [0, 1, 2, 3],\n",
       "                          'epsilon': [0.0001, 0.001, 0.01, 0.1, 1],\n",
       "                          'gamma': [0.125, 0.25, 0.5, 1], 'kernel': ['poly']}],\n",
       "             scoring=make_scorer(mean_euclidean_error, greater_is_better=False))"
      ]
     },
     "execution_count": 174,
     "metadata": {},
     "output_type": "execute_result"
    }
   ],
   "source": [
    "grid.fit(X_train, y2_train)"
   ]
  },
  {
   "cell_type": "code",
   "execution_count": 175,
   "metadata": {},
   "outputs": [
    {
     "data": {
      "text/plain": [
       "{'C': 1, 'epsilon': 0.1, 'gamma': 0.25, 'kernel': 'rbf'}"
      ]
     },
     "execution_count": 175,
     "metadata": {},
     "output_type": "execute_result"
    }
   ],
   "source": [
    "grid.best_params_"
   ]
  },
  {
   "cell_type": "code",
   "execution_count": 176,
   "metadata": {},
   "outputs": [
    {
     "data": {
      "text/plain": [
       "-1.038926582926158"
      ]
     },
     "execution_count": 176,
     "metadata": {},
     "output_type": "execute_result"
    }
   ],
   "source": [
    "grid.best_score_"
   ]
  },
  {
   "cell_type": "code",
   "execution_count": 197,
   "metadata": {},
   "outputs": [],
   "source": [
    "pred1 = grid.best_estimator_.predict(X_test)"
   ]
  },
  {
   "cell_type": "code",
   "execution_count": 198,
   "metadata": {},
   "outputs": [
    {
     "data": {
      "text/plain": [
       "0.94876182439009"
      ]
     },
     "execution_count": 198,
     "metadata": {},
     "output_type": "execute_result"
    }
   ],
   "source": [
    "mean_euclidean_error(pred1, y2_test)"
   ]
  },
  {
   "cell_type": "code",
   "execution_count": 199,
   "metadata": {},
   "outputs": [
    {
     "data": {
      "text/plain": [
       "0.8341512356687169"
      ]
     },
     "execution_count": 199,
     "metadata": {},
     "output_type": "execute_result"
    }
   ],
   "source": [
    "r2_score(pred1, y2_test)"
   ]
  },
  {
   "cell_type": "code",
   "execution_count": 200,
   "metadata": {},
   "outputs": [
    {
     "data": {
      "text/plain": [
       "2.233821888597599"
      ]
     },
     "execution_count": 200,
     "metadata": {},
     "output_type": "execute_result"
    }
   ],
   "source": [
    "mean_squared_error(pred1, y2_test)"
   ]
  },
  {
   "cell_type": "code",
   "execution_count": 201,
   "metadata": {},
   "outputs": [
    {
     "data": {
      "text/plain": [
       "0.9487618243900905"
      ]
     },
     "execution_count": 201,
     "metadata": {},
     "output_type": "execute_result"
    }
   ],
   "source": [
    "mean_absolute_error(pred1, y2_test)"
   ]
  },
  {
   "cell_type": "code",
   "execution_count": 202,
   "metadata": {},
   "outputs": [
    {
     "data": {
      "text/plain": [
       "1.4112293294715812"
      ]
     },
     "execution_count": 202,
     "metadata": {},
     "output_type": "execute_result"
    }
   ],
   "source": [
    "mean_euclidean_error(np.column_stack((pred0, pred1)), y_test)"
   ]
  },
  {
   "cell_type": "code",
   "execution_count": 203,
   "metadata": {},
   "outputs": [
    {
     "data": {
      "text/plain": [
       "0.9045813304591396"
      ]
     },
     "execution_count": 203,
     "metadata": {},
     "output_type": "execute_result"
    }
   ],
   "source": [
    "r2_score(np.column_stack((pred0, pred1)), y_test)"
   ]
  },
  {
   "cell_type": "code",
   "execution_count": 204,
   "metadata": {},
   "outputs": [
    {
     "data": {
      "text/plain": [
       "1.6398189257214744"
      ]
     },
     "execution_count": 204,
     "metadata": {},
     "output_type": "execute_result"
    }
   ],
   "source": [
    "mean_squared_error(np.column_stack((pred0, pred1)), y_test)"
   ]
  },
  {
   "cell_type": "code",
   "execution_count": 205,
   "metadata": {},
   "outputs": [
    {
     "data": {
      "text/plain": [
       "0.8765812742834569"
      ]
     },
     "execution_count": 205,
     "metadata": {},
     "output_type": "execute_result"
    }
   ],
   "source": [
    "mean_absolute_error(np.column_stack((pred0, pred1)), y_test)"
   ]
  },
  {
   "cell_type": "code",
   "execution_count": null,
   "metadata": {},
   "outputs": [],
   "source": []
  }
 ],
 "metadata": {
  "kernelspec": {
   "display_name": "base",
   "language": "python",
   "name": "python3"
  },
  "language_info": {
   "codemirror_mode": {
    "name": "ipython",
    "version": 3
   },
   "file_extension": ".py",
   "mimetype": "text/x-python",
   "name": "python",
   "nbconvert_exporter": "python",
   "pygments_lexer": "ipython3",
   "version": "3.9.7 (default, Sep 16 2021, 16:59:28) [MSC v.1916 64 bit (AMD64)]"
  },
  "orig_nbformat": 4,
  "vscode": {
   "interpreter": {
    "hash": "a00efa39cf8a521e31d05623339c87ef7640b65ad2cb9f7d37c59cec40f46932"
   }
  }
 },
 "nbformat": 4,
 "nbformat_minor": 2
}
