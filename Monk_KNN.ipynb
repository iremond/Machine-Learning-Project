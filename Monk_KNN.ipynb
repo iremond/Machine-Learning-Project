{
 "cells": [
  {
   "cell_type": "code",
   "execution_count": 1,
   "id": "a1145401",
   "metadata": {},
   "outputs": [],
   "source": [
    "import pandas\n",
    "import numpy as np\n",
    "import sklearn\n",
    "from sklearn.model_selection import StratifiedKFold\n",
    "from sklearn.model_selection import RandomizedSearchCV, GridSearchCV\n",
    "from sklearn.neighbors import KNeighborsClassifier\n",
    "from sklearn.model_selection import train_test_split"
   ]
  },
  {
   "cell_type": "code",
   "execution_count": 2,
   "id": "70066122",
   "metadata": {},
   "outputs": [],
   "source": [
    "train = pandas.read_csv(\"monks_3_train.csv\",sep=\" \", header=None, skipinitialspace= True)\n",
    "train.drop(columns=7, inplace=True)\n",
    "X_train = train[[i for i in range(1,7)]]\n",
    "y_train =  train[0]\n",
    "X_train = pandas.get_dummies(X_train,columns=[i for i in range(1,7)])\n",
    "X_train = X_train.to_numpy()\n",
    "y_train = y_train.to_numpy()"
   ]
  },
  {
   "cell_type": "markdown",
   "id": "4885757c",
   "metadata": {},
   "source": [
    "## Model selection"
   ]
  },
  {
   "cell_type": "code",
   "execution_count": 3,
   "id": "6b48b47d",
   "metadata": {},
   "outputs": [],
   "source": [
    "param_grid = [{\n",
    "        'weights': ['distance', 'uniform'],\n",
    "        'n_neighbors' : [i for i in range(1,61)],\n",
    "        'algorithm' : ['brute','ball_tree'],\n",
    "        'metric' : ['cityblock','jaccard','chebyshev','kulsinski','matching','sokalmichener']},\n",
    "    {\n",
    "        'weights': ['distance', 'uniform'],\n",
    "        'n_neighbors' : [i for i in range(1,61)],\n",
    "        'algorithm' : ['kd_tree'],\n",
    "        'metric' : ['cityblock']}]"
   ]
  },
  {
   "cell_type": "code",
   "execution_count": null,
   "id": "676b57f6",
   "metadata": {
    "scrolled": false
   },
   "outputs": [],
   "source": [
    "grid = GridSearchCV(       #RandomizedSearchCV\n",
    "    KNeighborsClassifier(),\n",
    "    param_grid=param_grid,\n",
    "    cv=StratifiedKFold(n_splits=5, shuffle=True,random_state=42),\n",
    "    n_jobs=4,\n",
    "    error_score='raise'\n",
    " )\n",
    "grid.fit(X_train, y_train)\n",
    "print(grid.best_params_, grid.best_score_)"
   ]
  },
  {
   "cell_type": "markdown",
   "id": "e23618cd",
   "metadata": {},
   "source": [
    "## Model assessment"
   ]
  },
  {
   "cell_type": "code",
   "execution_count": 4,
   "id": "cf087b28",
   "metadata": {},
   "outputs": [],
   "source": [
    "test = pandas.read_csv(\"monks_3_test.csv\",sep=\" \", header=None, skipinitialspace= True)\n",
    "test.drop(columns=7, inplace=True) \n",
    "X_test = test[[i for i in range(1,7)]]\n",
    "y_test =  test[0]\n",
    "X_test = pandas.get_dummies(X_test,columns=[i for i in range(1,7)])\n",
    "X_test = X_test.to_numpy()\n",
    "y_test = y_test.to_numpy()"
   ]
  },
  {
   "cell_type": "code",
   "execution_count": 6,
   "id": "efd80f84",
   "metadata": {},
   "outputs": [
    {
     "name": "stdout",
     "output_type": "stream",
     "text": [
      "0.8657407407407407\n"
     ]
    }
   ],
   "source": [
    "print(grid.score(X_test,y_test))"
   ]
  }
 ],
 "metadata": {
  "kernelspec": {
   "display_name": "Python 3 (ipykernel)",
   "language": "python",
   "name": "python3"
  },
  "language_info": {
   "codemirror_mode": {
    "name": "ipython",
    "version": 3
   },
   "file_extension": ".py",
   "mimetype": "text/x-python",
   "name": "python",
   "nbconvert_exporter": "python",
   "pygments_lexer": "ipython3",
   "version": "3.9.13"
  }
 },
 "nbformat": 4,
 "nbformat_minor": 5
}
