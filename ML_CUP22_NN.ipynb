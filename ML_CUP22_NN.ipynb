{
  "cells": [
    {
      "attachments": {},
      "cell_type": "markdown",
      "metadata": {},
      "source": [
        "# Libraries and dataset import"
      ]
    },
    {
      "cell_type": "code",
      "execution_count": null,
      "metadata": {
        "id": "Dyyq1_TfWhxq"
      },
      "outputs": [],
      "source": [
        "import numpy as np\n",
        "import matplotlib.pyplot as plt\n",
        "import pandas as pd\n",
        "import seaborn as sns\n",
        "import math\n",
        "from tqdm.notebook import tqdm\n",
        "from sklearn.model_selection import train_test_split, KFold, GridSearchCV\n",
        "from sklearn.metrics import make_scorer, mean_squared_error\n",
        "\n",
        "from tensorflow import keras\n",
        "from keras import Sequential, layers\n",
        "from keras.callbacks import EarlyStopping\n",
        "from keras.layers import Dense\n",
        "from keras import backend as K\n",
        "from keras.wrappers.scikit_learn import KerasRegressor"
      ]
    },
    {
      "cell_type": "code",
      "execution_count": null,
      "metadata": {
        "colab": {
          "base_uri": "https://localhost:8080/",
          "height": 206
        },
        "id": "13hb1xKlW1Sz",
        "outputId": "7a6d1eec-0a3d-491f-d442-63afa7943f9f"
      },
      "outputs": [],
      "source": [
        "df = pd.read_csv('ML-CUP22-TR.csv', header=None, skiprows=7, index_col=0) #, skipinitialspace=True)\n",
        "df.reset_index(drop=True, inplace=True)\n",
        "df.head()"
      ]
    },
    {
      "cell_type": "code",
      "execution_count": null,
      "metadata": {
        "colab": {
          "base_uri": "https://localhost:8080/"
        },
        "id": "eeFj49ARW4V2",
        "outputId": "37dabde4-b50f-465f-9f12-b7cbd1a1b6c1"
      },
      "outputs": [],
      "source": [
        "X = df.iloc[:, 0:9].values\n",
        "X"
      ]
    },
    {
      "cell_type": "code",
      "execution_count": null,
      "metadata": {
        "colab": {
          "base_uri": "https://localhost:8080/"
        },
        "id": "yO4llmzFW7eJ",
        "outputId": "0ed78b08-03e3-4600-bba2-448d95e65698"
      },
      "outputs": [],
      "source": [
        "y = df.iloc[:, 9:11].values\n",
        "y"
      ]
    },
    {
      "attachments": {},
      "cell_type": "markdown",
      "metadata": {},
      "source": [
        "# Partitioning"
      ]
    },
    {
      "cell_type": "code",
      "execution_count": null,
      "metadata": {
        "id": "qbEVCoaXW950"
      },
      "outputs": [],
      "source": [
        "X_train, X_test, y_train, y_test = train_test_split(X, y, test_size=0.2, shuffle=True)"
      ]
    },
    {
      "cell_type": "code",
      "execution_count": null,
      "metadata": {
        "colab": {
          "base_uri": "https://localhost:8080/"
        },
        "id": "2oKxDfmnXAbw",
        "outputId": "9928baa8-2f10-4849-f095-740871bee2f7"
      },
      "outputs": [],
      "source": [
        "X_train.shape, X_test.shape, y_train.shape, y_test.shape"
      ]
    },
    {
      "attachments": {},
      "cell_type": "markdown",
      "metadata": {},
      "source": [
        "# Data Exploration"
      ]
    },
    {
      "cell_type": "code",
      "execution_count": null,
      "metadata": {},
      "outputs": [],
      "source": [
        "sns.heatmap(df.corr(), annot=True, vmin=-1, vmax=1)\n",
        "plt.show()"
      ]
    },
    {
      "cell_type": "code",
      "execution_count": null,
      "metadata": {},
      "outputs": [],
      "source": [
        "df.describe()"
      ]
    },
    {
      "cell_type": "code",
      "execution_count": null,
      "metadata": {},
      "outputs": [],
      "source": [
        "def feature_selection(X_train, y_train, X_test, scale=True, score_func=r_regression):\n",
        "    if scale:\n",
        "        scaler = MinMaxScaler()\n",
        "        X_train = scaler.fit_transform(X_train)\n",
        "        X_test = scaler.transform(X_test)\n",
        "        \n",
        "    kbest = SelectKBest(score_func = r_regression, k = \"all\")\n",
        "    X_train = kbest.fit_transform(X_train,y_train)\n",
        "    X_test = kbest.transform(X_test)\n",
        "\n",
        "    res = pd.DataFrame(columns=['Feature', 'score'])\n",
        "    for i, (f,s) in enumerate(zip(df.drop(columns=[10,11]).columns, kbest.scores_)):\n",
        "        res.loc[i, 'Feature'] = f\n",
        "        res.loc[i, 'score'] = s\n",
        "    res = res.sort_values(by='score', ascending=False)\n",
        "    return res"
      ]
    },
    {
      "cell_type": "code",
      "execution_count": null,
      "metadata": {},
      "outputs": [],
      "source": [
        "a = feature_selection(X_train, y_train1, X_test, score_func=r_regression, scale=False)\n",
        "b = feature_selection(X_train, y_train2, X_test, score_func=r_regression, scale=False)\n",
        "pd.concat([a.rename(columns={\"Feature\": \"Feature\", \"score\": \"score_y1\"}), b.rename(columns={\"Feature\": \"a\", \"score\": \"score_y2\"})], axis=1)\\\n",
        ".drop(columns=['a'])\\\n",
        ".sort_values(by='score_y1',ascending=False)\\\n",
        ".reset_index(drop=True)\n"
      ]
    },
    {
      "attachments": {},
      "cell_type": "markdown",
      "metadata": {},
      "source": [
        "# Support Functions"
      ]
    },
    {
      "cell_type": "code",
      "execution_count": null,
      "metadata": {
        "id": "KtjNtB3kXE8c"
      },
      "outputs": [],
      "source": [
        "def mean_euclidean_error(y_true, y_pred):\n",
        "    return K.mean(K.sqrt(K.sum(K.square(y_pred - y_true), axis=-1)))"
      ]
    },
    {
      "cell_type": "code",
      "execution_count": null,
      "metadata": {
        "id": "esUYh1qIXR-B"
      },
      "outputs": [],
      "source": [
        "def mean_euclidean_error_skit_friendly(T, O):\n",
        "    sum = 0\n",
        "    for t, o in zip(T, O):\n",
        "        sum += np.linalg.norm(t - o) / T.shape[0]\n",
        "    return sum"
      ]
    },
    {
      "cell_type": "code",
      "execution_count": null,
      "metadata": {
        "id": "rCxBRgEfXT9F"
      },
      "outputs": [],
      "source": [
        "def create_model_RMSprop(num_neurons, l_rates, decays, momentum):\n",
        "        num_layers = len(num_neurons)\n",
        "        model = Sequential()\n",
        "        model.add(Dense(num_neurons[0], input_shape=(9,), activation='relu'))\n",
        "        for i in range(num_layers-1):\n",
        "                model.add(Dense(num_neurons[i], activation='relu'))\n",
        "        model.add(Dense(2, activation='linear'))\n",
        "        model.compile(\n",
        "                            optimizer=keras.optimizers.RMSprop(learning_rate=l_rates, momentum=momentum, weight_decay=decays),\n",
        "                            loss=['mean_squared_error'],\n",
        "                            metrics=[mean_euclidean_error])\n",
        "        return model"
      ]
    },
    {
      "cell_type": "code",
      "execution_count": null,
      "metadata": {},
      "outputs": [],
      "source": [
        "def create_model_SGD(num_neurons, l_rates, decays, momentum, nesterov):\n",
        "        num_layers = len(num_neurons)\n",
        "        model = Sequential()\n",
        "        model.add(Dense(num_neurons[0], input_shape=(9,), activation='relu'))\n",
        "        for i in range(num_layers-1):\n",
        "                model.add(Dense(num_neurons[i], activation='relu'))\n",
        "        model.add(Dense(2, activation='linear'))\n",
        "        model.compile(\n",
        "                            optimizer=keras.optimizers.RMSprop(learning_rate=l_rates, momentum=momentum, weight_decay=decays, nesterov=nesterov),\n",
        "                            loss=['mean_squared_error'],\n",
        "                            metrics=[mean_euclidean_error])\n",
        "        return model"
      ]
    },
    {
      "attachments": {},
      "cell_type": "markdown",
      "metadata": {},
      "source": [
        "# Model Selection"
      ]
    },
    {
      "cell_type": "code",
      "execution_count": null,
      "metadata": {},
      "outputs": [],
      "source": [
        "callback = EarlyStopping(monitor='mean_euclidean_error', patience=100)"
      ]
    },
    {
      "cell_type": "code",
      "execution_count": null,
      "metadata": {},
      "outputs": [],
      "source": [
        "cv = KFold(n_splits=5, shuffle=True, random_state=42)"
      ]
    },
    {
      "attachments": {},
      "cell_type": "markdown",
      "metadata": {},
      "source": [
        "## SGD"
      ]
    },
    {
      "cell_type": "code",
      "execution_count": null,
      "metadata": {
        "colab": {
          "base_uri": "https://localhost:8080/"
        },
        "id": "LXqYSX0yXX4z",
        "outputId": "a3b005b8-b751-4928-dd0d-1b95928d3acc"
      },
      "outputs": [],
      "source": [
        "model = KerasRegressor(build_fn=create_model_SGD, epochs=1000, batch_size=10, verbose=1)"
      ]
    },
    {
      "cell_type": "code",
      "execution_count": null,
      "metadata": {
        "id": "mDKrgDUbX2Iz"
      },
      "outputs": [],
      "source": [
        "param_grid_SGD = {\n",
        "    'num_neurons': [[20, 50, 50], [20, 50, 100], [50, 50, 100], [50, 100, 200], [100, 200, 200]],\n",
        "    'l_rates' : [10**-i for i in range(3, 5)],\n",
        "    'momentum' : [0.5, 0.7, 0.9],   \n",
        "    'decays' : [0, 0.0001],\n",
        "    'nesterov' : [True, False]\n",
        "    }"
      ]
    },
    {
      "cell_type": "code",
      "execution_count": null,
      "metadata": {
        "id": "Hi6oVS_AYQa7"
      },
      "outputs": [],
      "source": [
        "grid = GridSearchCV(estimator=model, param_grid=param_grid_SGD, cv=cv, scoring=make_scorer(mean_euclidean_error_skit_friendly, greater_is_better=False))"
      ]
    },
    {
      "cell_type": "code",
      "execution_count": null,
      "metadata": {
        "colab": {
          "base_uri": "https://localhost:8080/"
        },
        "id": "Of89dV0gYTPB",
        "outputId": "a88f3288-ff18-4612-eb39-5f663833209f"
      },
      "outputs": [],
      "source": [
        "grid_result = grid.fit(X_train, y_train, callbacks=[callback])\n",
        "best_SGD_model = grid.best_estimator_"
      ]
    },
    {
      "cell_type": "code",
      "execution_count": null,
      "metadata": {
        "id": "wcHYDX0qYVP4"
      },
      "outputs": [],
      "source": [
        "grid.best_params_, grid.best_score_"
      ]
    },
    {
      "cell_type": "code",
      "execution_count": null,
      "metadata": {},
      "outputs": [],
      "source": [
        "y_pred_sgd = best_SGD_model.predict(X_train)\n",
        "print('Best SGD model performance')\n",
        "print('MSE: %.3f' %mean_squared_error(y_pred_sgd, y_test), \n",
        "      'MAE: %.3f' %mean_euclidean_error_skit_friendly(y_pred_sgd, y_test)\n",
        "    )"
      ]
    },
    {
      "attachments": {},
      "cell_type": "markdown",
      "metadata": {},
      "source": [
        "## RMSprop"
      ]
    },
    {
      "cell_type": "code",
      "execution_count": null,
      "metadata": {},
      "outputs": [],
      "source": [
        "model = KerasRegressor(build_fn=create_model_RMSprop, epochs=1000, batch_size=10, verbose=1)"
      ]
    },
    {
      "cell_type": "code",
      "execution_count": null,
      "metadata": {},
      "outputs": [],
      "source": [
        "param_grid_RMSprop = {\n",
        "    'num_neurons': [[20, 50, 50], [20, 50, 100], [50, 50, 100]],\n",
        "    'l_rates' : [10**-i for i in range(3, 5)],\n",
        "    'momentum' : [0, 0.1, 0.2],   \n",
        "    'decays' : [0, 0.0001],\n",
        "    }"
      ]
    },
    {
      "cell_type": "code",
      "execution_count": null,
      "metadata": {},
      "outputs": [],
      "source": [
        "grid = GridSearchCV(estimator=model, param_grid=param_grid_RMSprop, cv=cv, scoring=make_scorer(mean_euclidean_error_skit_friendly, greater_is_better=False))"
      ]
    },
    {
      "cell_type": "code",
      "execution_count": null,
      "metadata": {},
      "outputs": [],
      "source": [
        "grid_result = grid.fit(X_train, y_train, callbacks=[callback])\n",
        "best_RMSprop_model = grid.best_estimator_"
      ]
    },
    {
      "cell_type": "code",
      "execution_count": null,
      "metadata": {},
      "outputs": [],
      "source": [
        "grid.best_params_, grid.best_score_"
      ]
    },
    {
      "cell_type": "code",
      "execution_count": null,
      "metadata": {},
      "outputs": [],
      "source": [
        "y_pred_sgd = best_SGD_model.predict(X_train)\n",
        "print('Best SGD model performance')\n",
        "print('MSE: %.3f' %mean_squared_error(y_pred_sgd, y_test), \n",
        "      'MAE: %.3f' %mean_euclidean_error_skit_friendly(y_pred_sgd, y_test)\n",
        "    )"
      ]
    },
    {
      "attachments": {},
      "cell_type": "markdown",
      "metadata": {},
      "source": [
        "# Plotting results"
      ]
    },
    {
      "cell_type": "code",
      "execution_count": null,
      "metadata": {},
      "outputs": [],
      "source": [
        "history_SGD = best_SGD_model.fit(X_train, y_train, epochs=1000, batch_size=10, validation_data=(X_test, y_test), verbose=0)\n",
        "history_RMSprop = best_RMSprop_model.fit(X_train, y_train, epochs=1000, batch_size=10, validation_data=(X_test, y_test), verbose=0)"
      ]
    },
    {
      "cell_type": "code",
      "execution_count": null,
      "metadata": {},
      "outputs": [],
      "source": [
        "def plot_loss(history):\n",
        "    loss_train = history.history['loss']\n",
        "    loss_val = history.history['val_loss']\n",
        "\n",
        "    plt.plot(loss_train, label='training', linestyle='--', color='#FA7070')\n",
        "    plt.plot(loss_val, label='internal test', color='lightblue')\n",
        "    plt.legend()\n",
        "    plt.xlabel('Epochs')\n",
        "    plt.ylabel('Loss')\n",
        "    plt.show()\n",
        "\n",
        "def plot_error(history):\n",
        "    err_train = history.history['mean_euclidean_error']\n",
        "    err_val = history.history['val_mean_euclidean_error']\n",
        "\n",
        "    plt.plot(err_train, label='training', linestyle='--', color='#FA7070')\n",
        "    plt.plot(err_val, label='internal test', color='lightblue')\n",
        "    plt.legend()\n",
        "    plt.xlabel('Epochs')\n",
        "    plt.ylabel('MEE')\n",
        "    plt.show()"
      ]
    },
    {
      "cell_type": "code",
      "execution_count": null,
      "metadata": {},
      "outputs": [],
      "source": [
        "plot_loss(history_SGD)\n",
        "plot_error(history_SGD)"
      ]
    },
    {
      "cell_type": "code",
      "execution_count": null,
      "metadata": {},
      "outputs": [],
      "source": [
        "plot_loss(history_RMSprop)\n",
        "plot_error(history_RMSprop)"
      ]
    }
  ],
  "metadata": {
    "colab": {
      "provenance": []
    },
    "kernelspec": {
      "display_name": "base",
      "language": "python",
      "name": "python3"
    },
    "language_info": {
      "codemirror_mode": {
        "name": "ipython",
        "version": 3
      },
      "file_extension": ".py",
      "mimetype": "text/x-python",
      "name": "python",
      "nbconvert_exporter": "python",
      "pygments_lexer": "ipython3",
      "version": "3.7.11"
    },
    "vscode": {
      "interpreter": {
        "hash": "b12f41defd07c4f9349922ef0d99e6d919618c6789aab442fb5034118696d182"
      }
    }
  },
  "nbformat": 4,
  "nbformat_minor": 0
}
