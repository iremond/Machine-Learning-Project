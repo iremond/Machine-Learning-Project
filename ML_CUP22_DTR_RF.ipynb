{
  "cells": [
    {
      "cell_type": "markdown",
      "metadata": {
        "id": "fTv81jbyw_fq"
      },
      "source": [
        "# Import librerie e training set"
      ]
    },
    {
      "cell_type": "code",
      "execution_count": null,
      "metadata": {
        "id": "0j4K4Me3w_fs"
      },
      "outputs": [],
      "source": [
        "#import\n",
        "import numpy as np\n",
        "import matplotlib.pyplot as plt\n",
        "import pandas as pd\n",
        "import seaborn as sns\n",
        "\n",
        "#partitioning & grid\n",
        "from sklearn.model_selection import train_test_split\n",
        "from sklearn.model_selection import StratifiedKFold, GridSearchCV, RandomizedSearchCV, KFold\n",
        "from scipy.stats import uniform\n",
        "from sklearn.metrics import make_scorer\n",
        "from sklearn.preprocessing import MinMaxScaler\n",
        "from sklearn.feature_selection import SelectKBest, mutual_info_regression, f_regression, r_regression\n",
        "from sklearn.model_selection import learning_curve\n",
        "\n",
        "#models\n",
        "from sklearn.tree import DecisionTreeRegressor\n",
        "from sklearn.ensemble import RandomForestRegressor\n",
        "\n",
        "#evaluation\n",
        "from sklearn.metrics import r2_score, mean_squared_error, mean_absolute_error"
      ]
    },
    {
      "cell_type": "code",
      "execution_count": null,
      "metadata": {
        "colab": {
          "base_uri": "https://localhost:8080/",
          "height": 206
        },
        "id": "FBpjVelCw_ft",
        "outputId": "97523ec5-2e1a-4b96-cdef-24456b40043b"
      },
      "outputs": [],
      "source": [
        "df = pd.read_csv('ML-CUP22-TR.csv', header=None, skiprows=7, index_col=0) #, skipinitialspace=True)\n",
        "df.reset_index(drop=True, inplace=True)\n",
        "df.head()"
      ]
    },
    {
      "cell_type": "code",
      "execution_count": null,
      "metadata": {
        "colab": {
          "base_uri": "https://localhost:8080/"
        },
        "id": "KrGu7RIYw_fv",
        "outputId": "9b71e929-d975-4b66-97db-14c0f2bdb10f"
      },
      "outputs": [],
      "source": [
        "df.shape"
      ]
    },
    {
      "cell_type": "code",
      "execution_count": null,
      "metadata": {
        "colab": {
          "base_uri": "https://localhost:8080/"
        },
        "id": "T-jp1Kzfw_fv",
        "outputId": "38449fd9-c050-4818-ef39-a646910673f6"
      },
      "outputs": [],
      "source": [
        "df.info()"
      ]
    },
    {
      "cell_type": "code",
      "execution_count": null,
      "metadata": {
        "colab": {
          "base_uri": "https://localhost:8080/"
        },
        "id": "om_maA8Lw_fw",
        "outputId": "6e0f9d7c-b9f1-4132-96fb-e33bb155ec53"
      },
      "outputs": [],
      "source": [
        "X = df.drop(columns=[10,11]).values\n",
        "X"
      ]
    },
    {
      "cell_type": "code",
      "execution_count": null,
      "metadata": {
        "id": "2gSmy46Zw_fw"
      },
      "outputs": [],
      "source": [
        "y = df[[10,11]].values"
      ]
    },
    {
      "attachments": {},
      "cell_type": "markdown",
      "metadata": {},
      "source": [
        "# Partitioning"
      ]
    },
    {
      "cell_type": "code",
      "execution_count": null,
      "metadata": {
        "id": "xy89us1nw_fw"
      },
      "outputs": [],
      "source": [
        "def splitting(X,y, test_size=0.15):\n",
        "    X_train, X_test, y_train, y_test = train_test_split(X, y, test_size=test_size, shuffle=True, random_state=0)\n",
        "    y_train1 = np.array([i[0] for i in y_train])\n",
        "    y_train2 = np.array([i[1] for i in y_train])\n",
        "    y_test1 = np.array([i[0] for i in y_test])\n",
        "    y_test2 = np.array([i[1] for i in y_test])\n",
        "    return X_train, X_test, y_train1, y_train2, y_test1, y_test2\n",
        "\n",
        "X_train, X_test, y_train1, y_train2, y_test1, y_test2  = splitting(X, y)\n"
      ]
    },
    {
      "cell_type": "code",
      "execution_count": null,
      "metadata": {
        "colab": {
          "base_uri": "https://localhost:8080/"
        },
        "id": "tv5mU7CRw_fx",
        "outputId": "c58ca09c-4436-4a9d-b8ab-dfa79c1931b2"
      },
      "outputs": [],
      "source": [
        "(y_train1 == y_train2).sum(), y_train1.shape"
      ]
    },
    {
      "cell_type": "code",
      "execution_count": null,
      "metadata": {
        "colab": {
          "base_uri": "https://localhost:8080/"
        },
        "id": "kCTN30Azw_fx",
        "outputId": "b8d0c649-b4e8-49a0-d3ca-9d9a6471a8f6"
      },
      "outputs": [],
      "source": [
        "X_train.shape, X_test.shape, y_train1.shape, y_train2.shape, y_test1.shape, y_test2.shape"
      ]
    },
    {
      "cell_type": "code",
      "execution_count": null,
      "metadata": {
        "colab": {
          "base_uri": "https://localhost:8080/",
          "height": 423
        },
        "id": "VZQdGMJ_w_fx",
        "outputId": "81ff0be4-96ef-4fb6-a6a2-3419ceb3e4db"
      },
      "outputs": [],
      "source": [
        "df.iloc[:, 0:9]"
      ]
    },
    {
      "attachments": {},
      "cell_type": "markdown",
      "metadata": {},
      "source": [
        "# Support functions"
      ]
    },
    {
      "cell_type": "code",
      "execution_count": null,
      "metadata": {
        "id": "hgYwiDlWw_f0"
      },
      "outputs": [],
      "source": [
        "def mean_euclidean_error(T, O):\n",
        "    sum = 0\n",
        "    for t, o in zip(T, O):\n",
        "        sum += np.linalg.norm(t - o) / T.shape[0]\n",
        "    return sum \n",
        "\n"
      ]
    },
    {
      "cell_type": "code",
      "execution_count": null,
      "metadata": {
        "id": "OgHGOrvsw_f1"
      },
      "outputs": [],
      "source": [
        "def get_evaluations(model, X_test, y_test):\n",
        "    y_pred = model.predict(X_test)\n",
        "    r2 = r2_score(y_test, y_pred)\n",
        "    mse = mean_squared_error(y_test, y_pred)\n",
        "    mae = mean_absolute_error(y_test, y_pred)\n",
        "    mee = mean_euclidean_error(y_test, y_pred)\n",
        "    return y_pred, r2, mse, mae, mee\n",
        "\n",
        "def print_evaluations(r2, mse, mae, mee):\n",
        "    print('R2: %.3f' % r2)\n",
        "    print('MSE: %.3f' % mse)\n",
        "    print('MAE: %.3f' % mae)\n",
        "    print('MEE: %.3f' % mee)"
      ]
    },
    {
      "cell_type": "markdown",
      "metadata": {
        "id": "z_G7Fg9mw_fz"
      },
      "source": [
        "# Model selection"
      ]
    },
    {
      "cell_type": "markdown",
      "metadata": {
        "id": "R-vwgbpvxMqV"
      },
      "source": [
        "## Decision Tree"
      ]
    },
    {
      "cell_type": "code",
      "execution_count": null,
      "metadata": {
        "id": "5TiD45gYw_fz"
      },
      "outputs": [],
      "source": [
        "dt = DecisionTreeRegressor(random_state=42)"
      ]
    },
    {
      "cell_type": "code",
      "execution_count": null,
      "metadata": {
        "id": "avl-J--sw_fz"
      },
      "outputs": [],
      "source": [
        "def get_alphas(y_train, vals=50):\n",
        "    path = dt.cost_complexity_pruning_path(X_train, y_train)\n",
        "    ccp_alphas, impurities = path.ccp_alphas, path.impurities\n",
        "    ccp_alphas = np.linspace(min(ccp_alphas), max(ccp_alphas), vals)\n",
        "    return ccp_alphas\n",
        "\n",
        "ccp_alphas1 = get_alphas(y_train1)\n",
        "ccp_alphas2 = get_alphas(y_train2)"
      ]
    },
    {
      "cell_type": "code",
      "execution_count": null,
      "metadata": {
        "colab": {
          "base_uri": "https://localhost:8080/"
        },
        "id": "BJHJzKvbw_fz",
        "outputId": "5903b402-5e2a-4fa6-c6d5-e304a6bea3ca"
      },
      "outputs": [],
      "source": [
        "ccp_alphas1"
      ]
    },
    {
      "cell_type": "code",
      "execution_count": null,
      "metadata": {},
      "outputs": [],
      "source": [
        "ccp_alphas2"
      ]
    },
    {
      "cell_type": "code",
      "execution_count": null,
      "metadata": {
        "id": "GWTYNUSUw_f0"
      },
      "outputs": [],
      "source": [
        "param_grid = [{\n",
        "    \"criterion\": ['squared_error', 'friedman_mse', 'absolute_error'],\n",
        "    \"ccp_alpha\": ccp_alphas1,\n",
        "    \"max_depth\": [i for i in range (4, 9)],\n",
        "},\n",
        "{\n",
        "    \"criterion\": ['squared_error', 'friedman_mse', 'absolute_error'],\n",
        "    \"ccp_alpha\": ccp_alphas2,\n",
        "    \"max_depth\": [i for i in range (4, 9)],\n",
        "}]"
      ]
    },
    {
      "cell_type": "code",
      "execution_count": null,
      "metadata": {
        "id": "tC_ywH6gw_f0"
      },
      "outputs": [],
      "source": [
        "grid = GridSearchCV(\n",
        "    dt,\n",
        "    param_grid=param_grid,\n",
        "    cv=KFold(n_splits=5, shuffle=True, random_state=42),\n",
        "    scoring= make_scorer(mean_euclidean_error, greater_is_better=False),\n",
        "    refit=True\n",
        "    )"
      ]
    },
    {
      "cell_type": "code",
      "execution_count": null,
      "metadata": {
        "colab": {
          "base_uri": "https://localhost:8080/"
        },
        "id": "Zv7yxl7Vw_f0",
        "outputId": "57974ec4-33af-41e9-b238-6b1b148210d5"
      },
      "outputs": [],
      "source": [
        "grid.fit(X_train, y_train1)"
      ]
    },
    {
      "cell_type": "code",
      "execution_count": null,
      "metadata": {
        "colab": {
          "base_uri": "https://localhost:8080/"
        },
        "id": "f0ZBpy7bw_f0",
        "outputId": "e5a1fd59-05ce-4169-c499-5a63c45c4bb6"
      },
      "outputs": [],
      "source": [
        "dt1 = grid.best_estimator_\n",
        "grid.best_estimator_"
      ]
    },
    {
      "cell_type": "code",
      "execution_count": null,
      "metadata": {
        "colab": {
          "base_uri": "https://localhost:8080/"
        },
        "id": "KvFDhyGkw_f1",
        "outputId": "9f3b2c9b-b019-46e1-914c-20049722a37b"
      },
      "outputs": [],
      "source": [
        "grid.best_params_, grid.best_score_"
      ]
    },
    {
      "cell_type": "code",
      "execution_count": null,
      "metadata": {
        "colab": {
          "base_uri": "https://localhost:8080/"
        },
        "id": "zgymCYMsw_f1",
        "outputId": "357ef847-9a3e-43b9-e413-ea5b774644ae"
      },
      "outputs": [],
      "source": [
        "y_pred_dt1, r2_dt1, mse_dt1, mae_dt1, mee_dt1 = get_evaluations(dt1, X_test, y_test1)\n",
        "\n",
        "print('Model for y1')\n",
        "print_evaluations(r2_dt1, mse_dt1, mae_dt1, mee_dt1)"
      ]
    },
    {
      "cell_type": "code",
      "execution_count": null,
      "metadata": {
        "colab": {
          "base_uri": "https://localhost:8080/"
        },
        "id": "6QpLiMfnw_f1",
        "outputId": "acc7ab15-7437-4ea1-fd43-2627ad3b0217"
      },
      "outputs": [],
      "source": [
        "grid.fit(X_train, y_train2)"
      ]
    },
    {
      "cell_type": "code",
      "execution_count": null,
      "metadata": {
        "id": "BVzkb0Dvw_f1"
      },
      "outputs": [],
      "source": [
        "dt2 = grid.best_estimator_"
      ]
    },
    {
      "cell_type": "code",
      "execution_count": null,
      "metadata": {
        "colab": {
          "base_uri": "https://localhost:8080/"
        },
        "id": "aJWoe2wAw_f1",
        "outputId": "3383b9bd-1628-4f6f-aeb3-65631563f798"
      },
      "outputs": [],
      "source": [
        "grid.best_params_, grid.best_score_"
      ]
    },
    {
      "cell_type": "code",
      "execution_count": null,
      "metadata": {
        "id": "_Xq8XNAZw_f2"
      },
      "outputs": [],
      "source": [
        "y_pred_dt2, r2_dt2, mse_dt2, mae_dt2, mee_dt2 = get_evaluations(dt2, X_test, y_test2)"
      ]
    },
    {
      "cell_type": "code",
      "execution_count": null,
      "metadata": {
        "colab": {
          "base_uri": "https://localhost:8080/"
        },
        "id": "47Ryt9N8w_f2",
        "outputId": "46d26917-2fb5-4852-a876-9da0f16f997b"
      },
      "outputs": [],
      "source": [
        "y2_pred = dt2.predict(X_test)\n",
        "print(r2_score(y_test2, y2_pred))"
      ]
    },
    {
      "attachments": {},
      "cell_type": "markdown",
      "metadata": {},
      "source": [
        "## Model assessment"
      ]
    },
    {
      "cell_type": "code",
      "execution_count": null,
      "metadata": {
        "colab": {
          "base_uri": "https://localhost:8080/"
        },
        "id": "NmClgN2Pw_f2",
        "outputId": "d8243cc7-c974-444d-83e2-ff8bde939768"
      },
      "outputs": [],
      "source": [
        "#y_pred_dt1, r2_dt1, mse_dt1, mae_dt1, mee_dt1 = get_evaluations(dt1, X_test, y_test1)\n",
        "\n",
        "\n",
        "print('Model for y1')\n",
        "print_evaluations(r2_dt1, mse_dt1, mae_dt1, mee_dt1)\n",
        "print()\n",
        "print('Model for y2')\n",
        "print_evaluations(r2_dt2, mse_dt2, mae_dt2, mee_dt2)\n",
        "\n"
      ]
    },
    {
      "cell_type": "code",
      "execution_count": null,
      "metadata": {},
      "outputs": [],
      "source": [
        "mean_euclidean_error(pd.DataFrame(y_pred_dt1, y_pred_dt2).values,\n",
        "                    pd.DataFrame(y_test1, y_test2).values)"
      ]
    },
    {
      "cell_type": "code",
      "execution_count": null,
      "metadata": {},
      "outputs": [],
      "source": [
        "\n",
        "mean_euclidean_error(pd.DataFrame(data=list(zip(y_pred_dt1, y_pred_dt2)), columns=['y_pred1', 'y_pred2']).values,\n",
        "                    pd.DataFrame(data=list(zip(y_test1, y_test2)), columns=['y_test1', 'y_test2']).values\n",
        ")"
      ]
    },
    {
      "cell_type": "code",
      "execution_count": null,
      "metadata": {},
      "outputs": [],
      "source": [
        "r2_ensambled_dt = r2_score(pd.DataFrame(data=list(zip(y_pred_dt1, y_pred_dt2)), columns=['y_pred1', 'y_pred2']).values,\n",
        "                    pd.DataFrame(data=list(zip(y_test1, y_test2)), columns=['y_test1', 'y_test2']).values)\n",
        "\n",
        "mse_ensambled_dt = mean_squared_error(pd.DataFrame(data=list(zip(y_pred_dt1, y_pred_dt2)), columns=['y_pred1', 'y_pred2']).values,\n",
        "                    pd.DataFrame(data=list(zip(y_test1, y_test2)), columns=['y_test1', 'y_test2']).values)\n",
        "\n",
        "mae_ensambled_dt = mean_absolute_error(pd.DataFrame(data=list(zip(y_pred_dt1, y_pred_dt2)), columns=['y_pred1', 'y_pred2']).values,\n",
        "                    pd.DataFrame(data=list(zip(y_test1, y_test2)), columns=['y_test1', 'y_test2']).values)\n",
        "\n",
        "mee_ensambled_dt = mean_euclidean_error(pd.DataFrame(data=list(zip(y_pred_dt1, y_pred_dt2)), columns=['y_pred1', 'y_pred2']).values,\n",
        "                    pd.DataFrame(data=list(zip(y_test1, y_test2)), columns=['y_test1', 'y_test2']).values)\n",
        "\n",
        "print('DT Ensemble models')\n",
        "print_evaluations(r2_ensambled_dt, mse_ensambled_dt, mae_ensambled_dt, mee_ensambled_dt)"
      ]
    },
    {
      "cell_type": "markdown",
      "metadata": {
        "id": "_N11q2nQw_f2"
      },
      "source": [
        "## Random Forest"
      ]
    },
    {
      "cell_type": "code",
      "execution_count": null,
      "metadata": {
        "id": "LtCQ1fvzw_f2"
      },
      "outputs": [],
      "source": [
        "rf = RandomForestRegressor()"
      ]
    },
    {
      "cell_type": "code",
      "execution_count": null,
      "metadata": {
        "id": "c7bQGlehw_f2"
      },
      "outputs": [],
      "source": [
        "param_list = {'n_estimators': [10, 50, 100, 250],            # number of trees in the forest\n",
        "              'max_depth': np.arange(4, 12, 2),           # max depth of the tree\n",
        "              'max_features': ['auto', 'sqrt', 'log2'],                   # number of features to consider at each split\n",
        "              'min_samples_split': np.arange(6, 16, 2),          # samples required to split a node\n",
        "              #'min_samples_leaf': np.arange(4, 9, 2),           # samples required at leaf nodes\n",
        "              'bootstrap': [True, False]                                  # method of selecting samples for training each tree\n",
        "             }"
      ]
    },
    {
      "cell_type": "code",
      "execution_count": null,
      "metadata": {
        "id": "K2TFJGnkw_f3"
      },
      "outputs": [],
      "source": [
        "grid = GridSearchCV(\n",
        "    rf,\n",
        "    param_grid=param_list,\n",
        "    cv=KFold(n_splits=5, shuffle=True, random_state=42),\n",
        "    scoring= make_scorer(mean_euclidean_error, greater_is_better=False),\n",
        "    refit=True\n",
        "    )"
      ]
    },
    {
      "cell_type": "code",
      "execution_count": null,
      "metadata": {
        "colab": {
          "base_uri": "https://localhost:8080/"
        },
        "id": "6dVPFXC5w_f3",
        "outputId": "4bd3dd83-6bdf-4836-b858-73a67ad7e4ec"
      },
      "outputs": [],
      "source": [
        "grid.fit(X_train, y_train1)"
      ]
    },
    {
      "cell_type": "code",
      "execution_count": null,
      "metadata": {
        "id": "aWpU4VCHw_f3"
      },
      "outputs": [],
      "source": [
        "rf1 = grid.best_estimator_"
      ]
    },
    {
      "cell_type": "code",
      "execution_count": null,
      "metadata": {
        "colab": {
          "base_uri": "https://localhost:8080/"
        },
        "id": "Ny-HLCG9w_f3",
        "outputId": "60fa17f1-3afe-4621-da0f-18fff59cfc79"
      },
      "outputs": [],
      "source": [
        "grid.best_params_, grid.best_score_"
      ]
    },
    {
      "cell_type": "code",
      "execution_count": null,
      "metadata": {
        "colab": {
          "base_uri": "https://localhost:8080/"
        },
        "id": "nUHIfpySw_f4",
        "outputId": "247743e4-30d4-4542-81ac-33a0485025d1"
      },
      "outputs": [],
      "source": [
        "grid.fit(X_train, y_train2)"
      ]
    },
    {
      "cell_type": "code",
      "execution_count": null,
      "metadata": {
        "id": "FYhxOBicw_f4"
      },
      "outputs": [],
      "source": [
        "rf2 = grid.best_estimator_"
      ]
    },
    {
      "cell_type": "code",
      "execution_count": null,
      "metadata": {
        "colab": {
          "base_uri": "https://localhost:8080/"
        },
        "id": "TkRs6euUw_f4",
        "outputId": "25a450dc-585e-4d1b-adce-e7243d702a08"
      },
      "outputs": [],
      "source": [
        "grid.best_params_, grid.best_score_"
      ]
    },
    {
      "attachments": {},
      "cell_type": "markdown",
      "metadata": {},
      "source": [
        "## Model Assessment"
      ]
    },
    {
      "cell_type": "code",
      "execution_count": null,
      "metadata": {
        "colab": {
          "base_uri": "https://localhost:8080/"
        },
        "id": "ttgua_LTw_f4",
        "outputId": "5391361d-8dc7-4341-afbe-857a95e8a0a9"
      },
      "outputs": [],
      "source": [
        "y_pred_rf1, r2_rf1, mse_rf1, mae_rf1, mee_rf1 = get_evaluations(rf1, X_test, y_test1)\n",
        "y_pred_rf2, r2_rf2, mse_rf2,mae_rf2, mee_rf2 = get_evaluations(rf2, X_test, y_test2)\n",
        "print('Model for y1')\n",
        "print_evaluations(r2_rf1, mse_rf1, mae_rf1, mee_rf1)\n",
        "print()\n",
        "print('Model for y2')\n",
        "print_evaluations(r2_rf2, mse_rf2, mae_rf2, mee_rf2)"
      ]
    },
    {
      "cell_type": "code",
      "execution_count": null,
      "metadata": {},
      "outputs": [],
      "source": [
        "mean_euclidean_error(pd.DataFrame(data=list(zip(y_pred_rf1, y_pred_rf2)), columns=['y_pred1', 'y_pred2']).values,\n",
        "                    pd.DataFrame(data=list(zip(y_test1, y_test2)), columns=['y_test1', 'y_test2']).values\n",
        ")"
      ]
    },
    {
      "cell_type": "code",
      "execution_count": null,
      "metadata": {},
      "outputs": [],
      "source": [
        "r2_ensambled_rf = r2_score(pd.DataFrame(data=list(zip(y_pred_rf1, y_pred_rf2)), columns=['y_pred1', 'y_pred2']).values,\n",
        "                    pd.DataFrame(data=list(zip(y_test1, y_test2)), columns=['y_test1', 'y_test2']).values)\n",
        "\n",
        "mse_ensambled_rf = mean_squared_error(pd.DataFrame(data=list(zip(y_pred_rf1, y_pred_rf2)), columns=['y_pred1', 'y_pred2']).values,\n",
        "                    pd.DataFrame(data=list(zip(y_test1, y_test2)), columns=['y_test1', 'y_test2']).values)\n",
        "\n",
        "mae_ensambled_rf = mean_absolute_error(pd.DataFrame(data=list(zip(y_pred_rf1, y_pred_rf2)), columns=['y_pred1', 'y_pred2']).values,\n",
        "                    pd.DataFrame(data=list(zip(y_test1, y_test2)), columns=['y_test1', 'y_test2']).values)\n",
        "\n",
        "mee_ensambled_rf = mean_euclidean_error(pd.DataFrame(data=list(zip(y_pred_rf1, y_pred_rf2)), columns=['y_pred1', 'y_pred2']).values,\n",
        "                    pd.DataFrame(data=list(zip(y_test1, y_test2)), columns=['y_test1', 'y_test2']).values)\n",
        "\n",
        "print('RF Ensemble models')\n",
        "print_evaluations(r2_ensambled_rf, mse_ensambled_rf, mae_ensambled_rf, mee_ensambled_rf)"
      ]
    },
    {
      "attachments": {},
      "cell_type": "markdown",
      "metadata": {},
      "source": [
        "# Plotting results"
      ]
    },
    {
      "cell_type": "code",
      "execution_count": null,
      "metadata": {},
      "outputs": [],
      "source": [
        "def get_learning_curve(model, plot=True, savefig=False, model_name='', plot_title=''):\n",
        "    train_sizes, train_scores, test_scores = learning_curve(model, X, y, cv=5, train_sizes=np.linspace(0.01, 1.0, 50), scoring=make_scorer(mean_euclidean_error, greater_is_better=False))\n",
        "\n",
        "    train_mean = np.mean(train_scores, axis=1)\n",
        "    train_std = np.std(train_scores, axis=1)\n",
        "\n",
        "    test_mean = np.mean(test_scores, axis=1)\n",
        "    test_std = np.std(test_scores, axis=1)\n",
        "\n",
        "    if plot:\n",
        "        plt.subplots(1, figsize=(8,6))\n",
        "        plt.plot(train_sizes, train_mean, '--',  label=\"Training score\")\n",
        "        plt.plot(train_sizes, test_mean, label=\"Cross-validation score\")\n",
        "\n",
        "        #plt.fill_between(train_sizes, train_mean - train_std, train_mean + train_std)\n",
        "        #plt.fill_between(train_sizes, test_mean - test_std, test_mean + test_std)\n",
        "\n",
        "        plt.title(plot_title)\n",
        "        plt.xlabel(\"Training Set Size\", fontsize=12), plt.ylabel(\"MEE\", fontsize=12), plt.legend(loc=\"best\", fontsize=12)\n",
        "        plt.tight_layout()\n",
        "        \n",
        "    if savefig:\n",
        "        plt.savefig(f'plots/{model_name}_learning_curve.pdf', dpi=300, bbox_inches='tight')\n",
        "    plt.show()"
      ]
    },
    {
      "cell_type": "code",
      "execution_count": null,
      "metadata": {},
      "outputs": [],
      "source": [
        "get_learning_curve(dt1, savefig=True, model_name='DT1')"
      ]
    },
    {
      "cell_type": "code",
      "execution_count": null,
      "metadata": {},
      "outputs": [],
      "source": [
        "get_learning_curve(dt2, savefig=True, model_name='DT2')"
      ]
    },
    {
      "cell_type": "code",
      "execution_count": null,
      "metadata": {},
      "outputs": [],
      "source": [
        "get_learning_curve(rf1, savefig=True, model_name='RF1')"
      ]
    },
    {
      "cell_type": "code",
      "execution_count": null,
      "metadata": {},
      "outputs": [],
      "source": [
        "get_learning_curve(rf2, savefig=True, model_name='RF2')"
      ]
    }
  ],
  "metadata": {
    "colab": {
      "provenance": [],
      "toc_visible": true
    },
    "kernelspec": {
      "display_name": "base",
      "language": "python",
      "name": "python3"
    },
    "language_info": {
      "codemirror_mode": {
        "name": "ipython",
        "version": 3
      },
      "file_extension": ".py",
      "mimetype": "text/x-python",
      "name": "python",
      "nbconvert_exporter": "python",
      "pygments_lexer": "ipython3",
      "version": "3.7.11"
    },
    "orig_nbformat": 4,
    "vscode": {
      "interpreter": {
        "hash": "b12f41defd07c4f9349922ef0d99e6d919618c6789aab442fb5034118696d182"
      }
    }
  },
  "nbformat": 4,
  "nbformat_minor": 0
}
