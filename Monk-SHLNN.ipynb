{
 "cells": [
  {
   "cell_type": "code",
   "execution_count": null,
   "metadata": {},
   "outputs": [],
   "source": [
    "import numpy as np\n",
    "import matplotlib.pyplot as plt\n",
    "import pandas as pd\n",
    "import math\n",
    "from tqdm.notebook import tqdm\n",
    "from sklearn.model_selection import train_test_split, StratifiedKFold\n",
    "from sklearn.metrics import mean_squared_error\n",
    "\n",
    "from tensorflow import keras\n",
    "from keras import Sequential, layers"
   ]
  },
  {
   "attachments": {},
   "cell_type": "markdown",
   "metadata": {},
   "source": [
    "# Importing dataset"
   ]
  },
  {
   "cell_type": "code",
   "execution_count": null,
   "metadata": {},
   "outputs": [],
   "source": [
    "df_train = pd.read_csv('monks_3_train.csv', sep= ' ', header=None, skipinitialspace=True)\n",
    "df_train.head(10)"
   ]
  },
  {
   "cell_type": "code",
   "execution_count": null,
   "metadata": {},
   "outputs": [],
   "source": [
    "df_train.drop(columns=7, inplace=True)\n",
    "df_train.head()"
   ]
  },
  {
   "cell_type": "code",
   "execution_count": null,
   "metadata": {},
   "outputs": [],
   "source": [
    "df_train = pd.get_dummies(data=df_train, columns=range(1,7))\n",
    "df_train.head(10)\n",
    "df_train.shape"
   ]
  },
  {
   "cell_type": "code",
   "execution_count": null,
   "metadata": {},
   "outputs": [],
   "source": [
    "X_train = df_train.iloc[:, 1:18]\n",
    "X_train.head()"
   ]
  },
  {
   "attachments": {},
   "cell_type": "markdown",
   "metadata": {},
   "source": [
    "# Partitioning"
   ]
  },
  {
   "cell_type": "code",
   "execution_count": null,
   "metadata": {},
   "outputs": [],
   "source": [
    "X_train = X_train.to_numpy()"
   ]
  },
  {
   "cell_type": "code",
   "execution_count": null,
   "metadata": {},
   "outputs": [],
   "source": [
    "y_train = df_train.iloc[:, 0]\n",
    "y_train.head()"
   ]
  },
  {
   "cell_type": "code",
   "execution_count": null,
   "metadata": {},
   "outputs": [],
   "source": [
    "y_train = y_train.to_numpy()\n",
    "y_train "
   ]
  },
  {
   "cell_type": "markdown",
   "metadata": {},
   "source": [
    "# Neural network"
   ]
  },
  {
   "cell_type": "code",
   "execution_count": null,
   "metadata": {},
   "outputs": [],
   "source": [
    "def create_model():\n",
    "    model = Sequential(\n",
    "    [\n",
    "        layers.Dense(6, activation=\"relu\", name=\"layer1\", input_shape=(17,)),\n",
    "        layers.Dense(1, activation='sigmoid', name=\"output\"), # output layer\n",
    "    ]\n",
    "    )\n",
    "    return model"
   ]
  },
  {
   "cell_type": "markdown",
   "metadata": {},
   "source": [
    "## Grid search"
   ]
  },
  {
   "cell_type": "code",
   "execution_count": null,
   "metadata": {},
   "outputs": [],
   "source": [
    "split = StratifiedKFold(n_splits=5, shuffle=True, random_state=0)"
   ]
  },
  {
   "cell_type": "code",
   "execution_count": null,
   "metadata": {
    "scrolled": true
   },
   "outputs": [],
   "source": [
    "l_rates = [10**-i for i in range(2,4)]\n",
    "momentum = [i*0.1 for i in range(3)]\n",
    "decays = [0,0.001]\n",
    "splits = list(split.split(X_train, y_train))\n",
    "\n",
    "#k-fold\n",
    "score_means_opt_parameters={}\n",
    "X_train_p = [X_train[train_idx] for train_idx, val_idx in splits]\n",
    "y_train_p = [y_train[train_idx] for train_idx, val_idx in splits]\n",
    "X_val_p = [X_train[val_idx] for train_idx, val_idx in splits]\n",
    "y_val_p = [y_train[val_idx] for train_idx, val_idx in splits]\n",
    "\n",
    "\n",
    "for l_r in tqdm(l_rates):\n",
    "    for m in momentum:\n",
    "        for d in tqdm(decays):\n",
    "            scores = []\n",
    "            for fold in range(len(X_train_p)):\n",
    "                model = create_model()\n",
    "                model.compile(\n",
    "                    optimizer=keras.optimizers.RMSprop(learning_rate=l_r, momentum=m, weight_decay=d),\n",
    "                    loss='binary_crossentropy',\n",
    "                    metrics=['accuracy'])\n",
    "                history = model.fit(X_train_p[fold], y_train_p[fold], epochs=300, batch_size=10, validation_data=(X_val_p[fold], y_val_p[fold]), verbose=0)\n",
    "                scores.append((history.history['val_accuracy'][-1]))\n",
    "            score_means_opt_parameters[(l_r, m, d)] = (np.mean(scores), np.std(scores))\n"
   ]
  },
  {
   "attachments": {},
   "cell_type": "markdown",
   "metadata": {},
   "source": [
    "## Computing scores"
   ]
  },
  {
   "cell_type": "code",
   "execution_count": null,
   "metadata": {},
   "outputs": [],
   "source": [
    "score_means_buone = [i for i in score_means_opt_parameters.items() if i[1][0] >= 0.7]\n",
    "score_means_buone.sort(key = lambda x:x[1][0]-x[1][1], reverse=True)\n",
    "\n",
    "score_means_topcut = [i for i in score_means_buone if i[1][0] >= score_means_buone[0][1][0]-score_means_buone[0][1][1]]\n",
    "\n"
   ]
  },
  {
   "attachments": {},
   "cell_type": "markdown",
   "metadata": {},
   "source": [
    "## Plotting the best models' accuracy"
   ]
  },
  {
   "cell_type": "code",
   "execution_count": null,
   "metadata": {},
   "outputs": [],
   "source": [
    "X_trains, X_val, y_trains, y_val = train_test_split(X_train, y_train, test_size=0.2, stratify=y_train, shuffle=True)"
   ]
  },
  {
   "cell_type": "code",
   "execution_count": null,
   "metadata": {},
   "outputs": [],
   "source": [
    "score_means_topcut"
   ]
  },
  {
   "cell_type": "code",
   "execution_count": null,
   "metadata": {
    "scrolled": true
   },
   "outputs": [],
   "source": [
    "for i in range(len(score_means_topcut)):\n",
    "    print(score_means_buone[i])\n",
    "    model = create_model()\n",
    "    model.compile(optimizer=keras.optimizers.RMSprop(learning_rate=score_means_buone[i][0][0], \n",
    "                                                     momentum=score_means_buone[i][0][1], \n",
    "                                                     weight_decay=score_means_buone[i][0][2]),\n",
    "                                                     loss='binary_crossentropy',\n",
    "                                                     metrics=['accuracy'])\n",
    "    history = model.fit(X_trains, y_trains, epochs=300, batch_size=10, validation_data=(X_val, y_val), verbose=0) \n",
    "    accuracy_train = history.history['accuracy']\n",
    "    accuracy_val = history.history['val_accuracy']\n",
    "    print('Max train accuracy:', max(accuracy_train))\n",
    "    print('Max val accuracy:', max(accuracy_val))\n",
    "    print('Final val accuracy:',accuracy_val[-1])\n",
    "    plt.plot(accuracy_train, label='training')\n",
    "    plt.plot(accuracy_val, label='validation')\n",
    "    plt.legend()\n",
    "    plt.xlabel('Epochs')\n",
    "    plt.ylabel('Accuracy')\n",
    "    plt.show()"
   ]
  },
  {
   "attachments": {},
   "cell_type": "markdown",
   "metadata": {},
   "source": [
    "# Model assessment"
   ]
  },
  {
   "cell_type": "code",
   "execution_count": null,
   "metadata": {},
   "outputs": [],
   "source": [
    "test = pd.read_csv(\"monks_3_test\",sep=\" \", header=None, skipinitialspace=True)"
   ]
  },
  {
   "cell_type": "code",
   "execution_count": null,
   "metadata": {},
   "outputs": [],
   "source": [
    "test.drop(columns=7, inplace=True) "
   ]
  },
  {
   "cell_type": "code",
   "execution_count": null,
   "metadata": {},
   "outputs": [],
   "source": [
    "X_test = test[[i for i in range(1,7)]]\n",
    "y_test = test[0]\n",
    "X_test = pd.get_dummies(X_test,columns=[i for i in range(1,7)])\n",
    "X_test = X_test.to_numpy()\n",
    "y_test = y_test.to_numpy()"
   ]
  },
  {
   "cell_type": "code",
   "execution_count": null,
   "metadata": {},
   "outputs": [],
   "source": [
    "model = create_model()\n",
    "model.compile(optimizer=keras.optimizers.RMSprop(learning_rate=score_means_topcut[0][0][0], # best model sorted by mean_acc - std_acc\n",
    "                                                 momentum=score_means_topcut[0][0][1], \n",
    "                                                 weight_decay=score_means_topcut[0][0][2]),\n",
    "                                                 loss='binary_crossentropy',\n",
    "                                                 metrics=['accuracy'])\n",
    "history = model.fit(X_train, y_train, epochs=300, batch_size=10, validation_data=(X_test, y_test), verbose=0)\n",
    "accuracy_train = history.history['accuracy']\n",
    "accuracy_val = history.history['val_accuracy']\n",
    "print('Max accuracy val',max(accuracy_val))\n",
    "print('Final accuracy val', accuracy_val[-1])\n",
    "plt.plot(accuracy_train, label='training')\n",
    "plt.plot(accuracy_val, label='validation')\n",
    "plt.legend()\n",
    "plt.xlabel('Epoche')\n",
    "plt.ylabel('Accuracy')\n",
    "plt.show()"
   ]
  },
  {
   "cell_type": "code",
   "execution_count": null,
   "metadata": {},
   "outputs": [],
   "source": [
    "loss_train = history.history['loss']\n",
    "loss_val = history.history['val_loss']\n",
    "print(loss_val[-1])\n",
    "plt.plot(loss_train, label='training')\n",
    "plt.plot(loss_val, label='validation')\n",
    "plt.axhline(min(loss_val), color='orange') # checking whether it is overfetting \n",
    "plt.legend()\n",
    "plt.xlabel('Epoche')\n",
    "plt.ylabel('Loss')\n",
    "plt.show()"
   ]
  },
  {
   "cell_type": "code",
   "execution_count": null,
   "metadata": {},
   "outputs": [],
   "source": [
    "y_pred_train = model.predict(X_train)\n",
    "mean_squared_error(y_pred_train, y_train)"
   ]
  },
  {
   "cell_type": "code",
   "execution_count": null,
   "metadata": {},
   "outputs": [],
   "source": [
    "y_pred = model.predict(X_test)\n",
    "mean_squared_error(y_pred, y_test)"
   ]
  }
 ],
 "metadata": {
  "kernelspec": {
   "display_name": "base",
   "language": "python",
   "name": "python3"
  },
  "language_info": {
   "codemirror_mode": {
    "name": "ipython",
    "version": 3
   },
   "file_extension": ".py",
   "mimetype": "text/x-python",
   "name": "python",
   "nbconvert_exporter": "python",
   "pygments_lexer": "ipython3",
   "version": "3.7.11"
  },
  "vscode": {
   "interpreter": {
    "hash": "b12f41defd07c4f9349922ef0d99e6d919618c6789aab442fb5034118696d182"
   }
  }
 },
 "nbformat": 4,
 "nbformat_minor": 2
}
